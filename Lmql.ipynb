{
 "cells": [
  {
   "cell_type": "code",
   "execution_count": 2,
   "metadata": {},
   "outputs": [
    {
     "data": {
      "text/plain": [
       "True"
      ]
     },
     "execution_count": 2,
     "metadata": {},
     "output_type": "execute_result"
    }
   ],
   "source": [
    "import lmql\n",
    "import asyncio\n",
    "import os\n",
    "from dotenv import load_dotenv, dotenv_values\n",
    "\n",
    "load_dotenv()"
   ]
  },
  {
   "cell_type": "code",
   "execution_count": 3,
   "metadata": {},
   "outputs": [],
   "source": [
    "@lmql.query(model=\"chatgpt\")\n",
    "async def tell_a_joke(temperature=0.8):\n",
    "    '''lmql\n",
    "    \"\"\"A list of good dad jokes. A indicates the punchline\n",
    "    Q: How does a penguin build its house?S\n",
    "    A: Igloos it together.\n",
    "    Q: Which knight invented King Arthur's Round Table?\n",
    "    A: Sir Cumference.\n",
    "    Q:[JOKE]\n",
    "    A:[PUNCHLINE]\"\"\" where STOPS_AT(JOKE, \"?\") and  STOPS_AT(PUNCHLINE, \"\\n\")\n",
    "    '''"
   ]
  },
  {
   "cell_type": "code",
   "execution_count": 11,
   "metadata": {},
   "outputs": [
    {
     "data": {
      "text/plain": [
       "[LMQLResult(prompt=\"A list of good dad jokes. A indicates the punchline\\nQ: How does a penguin build its house?\\nA: Igloos it together.\\nQ: Which knight invented King Arthur's Round Table?\\nA: Sir Cumference.\\nQ:  Why don't skeletons fight each other?\\nA:  They don't have the guts.\\n\", variables={'JOKE': \"  Why don't skeletons fight each other?\", 'PUNCHLINE': \"  They don't have the guts.\\n\"}, distribution_variable=None, distribution_values=None)]"
      ]
     },
     "execution_count": 11,
     "metadata": {},
     "output_type": "execute_result"
    }
   ],
   "source": [
    "await tell_a_joke()"
   ]
  },
  {
   "cell_type": "code",
   "execution_count": 4,
   "metadata": {},
   "outputs": [],
   "source": [
    "@lmql.query(model=\"chatgpt\")\n",
    "async def chatbot():\n",
    "   '''lmql\n",
    "    argmax \n",
    "    \"{:system} You are a marketing chatbot for the language model query language (LMQL).\"\n",
    "    for i in range(10):\n",
    "        \"{:user} {await input()}\"\n",
    "        \"{:assistant} [ANSWER]\"\n",
    "    from\n",
    "    \"chatgpt\"\n",
    "   '''"
   ]
  },
  {
   "cell_type": "code",
   "execution_count": 5,
   "metadata": {},
   "outputs": [],
   "source": [
    "await chatbot()"
   ]
  },
  {
   "cell_type": "code",
   "execution_count": null,
   "metadata": {},
   "outputs": [],
   "source": []
  }
 ],
 "metadata": {
  "kernelspec": {
   "display_name": "prompteng",
   "language": "python",
   "name": "python3"
  },
  "language_info": {
   "codemirror_mode": {
    "name": "ipython",
    "version": 3
   },
   "file_extension": ".py",
   "mimetype": "text/x-python",
   "name": "python",
   "nbconvert_exporter": "python",
   "pygments_lexer": "ipython3",
   "version": "3.10.13"
  },
  "orig_nbformat": 4
 },
 "nbformat": 4,
 "nbformat_minor": 2
}
