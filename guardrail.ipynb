{
 "cells": [
  {
   "cell_type": "code",
   "execution_count": 5,
   "metadata": {},
   "outputs": [],
   "source": [
    "import openai\n",
    "import os\n",
    "from pydantic import BaseModel,Field\n",
    "from rich import print\n",
    "from typing import List, Optional\n",
    "import guardrails as gd\n",
    "import time\n",
    "import asyncio"
   ]
  },
  {
   "cell_type": "code",
   "execution_count": 6,
   "metadata": {},
   "outputs": [],
   "source": [
    "base_prompt =[{\"role\":\"user\",\"content\":'''\n",
    "I want you to act as a spoken and multilingual AI English teacher and improver. \\\n",
    "Your task is to enhance my English proficiency by discussing topics based on my interests while teaching me about the English language. \\\n",
    "I need you to be critically active in strictly following the grammatical rules in the English language. \\\n",
    "Ask me one question at a time to make our discussion more conversational while limiting your replies to 60 words only. \\\n",
    "Make sure to end your responses with a question to make our conversation more conversational. \\\n",
    "I would like you to correct grammatical errors if there are any ungrammatical statements present from my inputs. \\\n",
    "Some examples of grammatical errors are delimited with triple backticks: \\\n",
    "```\\\n",
    "-'This option is preferable than any other.' \\\n",
    "-'The time weren't enough.' \\\n",
    "-'She not went to the market'``` \\\n",
    "For each of your responses, I would need you to respond to me in English first together with the corresponding translation to the user's native language. \\\n",
    "Some examples are shown delimited by triple backticks here:\\\n",
    "```\\\n",
    "1) When language is Korean:'Hello, I am your AI chatbot. How can I help you today? / \\\n",
    "안녕하세요, 인공지능 챗봇입니다. 오늘은 무엇을 도와드릴까요?'\\\n",
    "2) When language is Filipino: 'Hello, I am your AI chatbot. How can I help you today? / \\\n",
    "Kamusta, ako ang iyong AI chatbot. Paano kita matutulungan ngayon?'\\\n",
    "3) When language is German: 'Hello, I am your AI chatbot. How can I help you today? / \\\n",
    "Hallo, ich bin Ihr KI-Chatbot. Wie kann ich Ihnen heute helfen?'\n",
    "```\\\n",
    "Linger over my prompts to understand all instructions and evaluate my proficiency in the English language before responding. \\\n",
    "Be alert always on making corrections from my input \\\n",
    "However if you dont detect any grammatical errors I need you to keep in mind, that if there is no grammatical error don't correct me. \\\n",
    "\n",
    "${user_input}\n",
    "\n",
    "${gr.xml_prefix_prompt}\n",
    "\n",
    "${output_schema}\n",
    "'''}, {\"role\":\"Assistant\",\"content\":\"Ok, got this\"}]"
   ]
  },
  {
   "cell_type": "code",
   "execution_count": 7,
   "metadata": {},
   "outputs": [
    {
     "data": {
      "text/plain": [
       "\"\\nI want you to act as a spoken and multilingual AI English teacher and improver. Your task is to enhance my English proficiency by discussing topics based on my interests while teaching me about the English language. I need you to be critically active in strictly following the grammatical rules in the English language. Ask me one question at a time to make our discussion more conversational while limiting your replies to 60 words only. Make sure to end your responses with a question to make our conversation more conversational. I would like you to correct grammatical errors if there are any ungrammatical statements present from my inputs. Some examples of grammatical errors are delimited with triple backticks: ```-'This option is preferable than any other.' -'The time weren't enough.' -'She not went to the market'``` For each of your responses, I would need you to respond to me in English first together with the corresponding translation to the user's native language. Some examples are shown delimited by triple backticks here:```1) When language is Korean:'Hello, I am your AI chatbot. How can I help you today? / 안녕하세요, 인공지능 챗봇입니다. 오늘은 무엇을 도와드릴까요?'2) When language is Filipino: 'Hello, I am your AI chatbot. How can I help you today? / Kamusta, ako ang iyong AI chatbot. Paano kita matutulungan ngayon?'3) When language is German: 'Hello, I am your AI chatbot. How can I help you today? / Hallo, ich bin Ihr KI-Chatbot. Wie kann ich Ihnen heute helfen?'\\n```Linger over my prompts to understand all instructions and evaluate my proficiency in the English language before responding. Be alert always on making corrections from my input However if you dont detect any grammatical errors I need you to keep in mind, that if there is no grammatical error don't correct me. \\n${user_input}\\n\\n${gr.xml_prefix_prompt}\\n\\n${output_schema}\\n\""
      ]
     },
     "execution_count": 7,
     "metadata": {},
     "output_type": "execute_result"
    }
   ],
   "source": [
    "base_prompt[0]['content']"
   ]
  },
  {
   "cell_type": "code",
   "execution_count": 8,
   "metadata": {},
   "outputs": [],
   "source": [
    "class Generated(BaseModel):\n",
    "    corrected_english: str = Field(description=\"\"\"If there is wrong with the user's grammar you will correct the grammar in english. \n",
    "                                   Start your answer by 'Your sentence should be:' remember this is only if the user's input have a wrong grammar\n",
    "                                   if the grammar is correct just leave this field empty\"\"\" )\n",
    "    corrected_native:  str= Field(description=\"Translate the corrected english on the user's native language If the corrected english is None then put None here also.\")\n",
    "    model_english_reply: str = Field(description=\"Reply in english as an AI english tutor and end the sentence with a question to keep the conversation going.\")\n",
    "    model_native_reply: str = Field(description=\"Reply in user's native language and end the sentence with a question to keep the conversation going.\")\n",
    "\n",
    "\n",
    "class Assistant(BaseModel):\n",
    "    assitant_reply: List[Generated] = Field(description=\"This will held the assistant reply.\")\n"
   ]
  },
  {
   "cell_type": "code",
   "execution_count": 9,
   "metadata": {},
   "outputs": [],
   "source": [
    "instructions = \"\"\"You are a AI English Tutor.\n",
    "\n",
    "${gr.json_suffix_prompt_examples}\n",
    "\n",
    "\"\"\""
   ]
  },
  {
   "cell_type": "code",
   "execution_count": 10,
   "metadata": {},
   "outputs": [],
   "source": [
    "guard = gd.Guard.from_pydantic(output_class=Assistant, prompt=base_prompt[0][\"content\"])\n",
    "message_objects=[]\n",
    "\n",
    "def chatbot(prompt):\n",
    "    message_objects.append({\"role\":\"user\", \"content\":prompt})\n",
    "    raw_llm_output, validated_output = guard(\n",
    "        openai.ChatCompletion.create,\n",
    "        prompt_params={\"user_input\":prompt},\n",
    "        msg_history=message_objects,\n",
    "        model=\"gpt-4-0613\",\n",
    "        max_tokens=2048,\n",
    "        temperature=0,\n",
    "    )\n",
    "    return validated_output\n"
   ]
  },
  {
   "cell_type": "code",
   "execution_count": 12,
   "metadata": {},
   "outputs": [
    {
     "data": {
      "text/html": [
       "<pre style=\"white-space:pre;overflow-x:auto;line-height:normal;font-family:Menlo,'DejaVu Sans Mono',consolas,'Courier New',monospace\">\n",
       "I want you to act as a spoken and multilingual AI English teacher and improver. Your task is to enhance my English \n",
       "proficiency by discussing topics based on my interests while teaching me about the English language. I need you to \n",
       "be critically active in strictly following the grammatical rules in the English language. Ask me one question at a \n",
       "time to make our discussion more conversational while limiting your replies to <span style=\"color: #008080; text-decoration-color: #008080; font-weight: bold\">60</span> words only. Make sure to end your\n",
       "responses with a question to make our conversation more conversational. I would like you to correct grammatical \n",
       "errors if there are any ungrammatical statements present from my inputs. Some examples of grammatical errors are \n",
       "delimited with triple backticks: ```-<span style=\"color: #008000; text-decoration-color: #008000\">'This option is preferable than any other.'</span> -<span style=\"color: #008000; text-decoration-color: #008000\">'The time weren'</span>t enough.<span style=\"color: #008000; text-decoration-color: #008000\">' -'</span>She \n",
       "not went to the market'``` For each of your responses, I would need you to respond to me in English first together \n",
       "with the corresponding translation to the user's native language. Some examples are shown delimited by triple \n",
       "backticks here:```<span style=\"color: #008080; text-decoration-color: #008080; font-weight: bold\">1</span><span style=\"font-weight: bold\">)</span> When language is Korean:<span style=\"color: #008000; text-decoration-color: #008000\">'Hello, I am your AI chatbot. How can I help you today? / 안녕하세요, </span>\n",
       "<span style=\"color: #008000; text-decoration-color: #008000\">인공지능 챗봇입니다. 오늘은 무엇을 도와드릴까요?'</span><span style=\"color: #008080; text-decoration-color: #008080; font-weight: bold\">2</span><span style=\"font-weight: bold\">)</span> When language is Filipino: <span style=\"color: #008000; text-decoration-color: #008000\">'Hello, I am your AI chatbot. How </span>\n",
       "<span style=\"color: #008000; text-decoration-color: #008000\">can I help you today? / Kamusta, ako ang iyong AI chatbot. Paano kita matutulungan ngayon?'</span><span style=\"color: #008080; text-decoration-color: #008080; font-weight: bold\">3</span><span style=\"font-weight: bold\">)</span> When language is \n",
       "German: <span style=\"color: #008000; text-decoration-color: #008000\">'Hello, I am your AI chatbot. How can I help you today? / Hallo, ich bin Ihr KI-Chatbot. Wie kann ich Ihnen</span>\n",
       "<span style=\"color: #008000; text-decoration-color: #008000\">heute helfen?'</span>\n",
       "```Linger over my prompts to understand all instructions and evaluate my proficiency in the English language before\n",
       "responding. Be alert always on making corrections from my input However if you dont detect any grammatical errors I\n",
       "need you to keep in mind, that if there is no grammatical error don't correct me. \n",
       "$<span style=\"font-weight: bold\">{</span>user_input<span style=\"font-weight: bold\">}</span>\n",
       "\n",
       "\n",
       "Given below is XML that describes the information to extract from this document and the tags to extract it into.\n",
       "\n",
       "\n",
       "<span style=\"font-weight: bold\">&lt;</span><span style=\"color: #ff00ff; text-decoration-color: #ff00ff; font-weight: bold\">output</span><span style=\"color: #000000; text-decoration-color: #000000\">&gt;</span>\n",
       "<span style=\"color: #000000; text-decoration-color: #000000\">    &lt;list </span><span style=\"color: #808000; text-decoration-color: #808000\">name</span><span style=\"color: #000000; text-decoration-color: #000000\">=</span><span style=\"color: #008000; text-decoration-color: #008000\">\"assitant_reply\"</span><span style=\"color: #000000; text-decoration-color: #000000\"> </span><span style=\"color: #808000; text-decoration-color: #808000\">description</span><span style=\"color: #000000; text-decoration-color: #000000\">=</span><span style=\"color: #008000; text-decoration-color: #008000\">\"This will held the assistant reply.\"</span><span style=\"color: #000000; text-decoration-color: #000000\">&gt;</span>\n",
       "<span style=\"color: #000000; text-decoration-color: #000000\">        &lt;object&gt;</span>\n",
       "<span style=\"color: #000000; text-decoration-color: #000000\">            &lt;string </span><span style=\"color: #808000; text-decoration-color: #808000\">name</span><span style=\"color: #000000; text-decoration-color: #000000\">=</span><span style=\"color: #008000; text-decoration-color: #008000\">\"corrected_english\"</span><span style=\"color: #000000; text-decoration-color: #000000\"> </span><span style=\"color: #808000; text-decoration-color: #808000\">description</span><span style=\"color: #000000; text-decoration-color: #000000\">=</span><span style=\"color: #008000; text-decoration-color: #008000\">\"If there is wrong with the user's grammar you will </span>\n",
       "<span style=\"color: #008000; text-decoration-color: #008000\">correct the grammar in english. Start your answer by 'Your sentence should be:' remember this is only if the user's</span>\n",
       "<span style=\"color: #008000; text-decoration-color: #008000\">input have a wrong grammar if the grammar is correct just leave this field empty\"</span><span style=\"color: #800080; text-decoration-color: #800080\">/</span><span style=\"color: #000000; text-decoration-color: #000000\">&gt;</span>\n",
       "<span style=\"color: #000000; text-decoration-color: #000000\">            &lt;string </span><span style=\"color: #808000; text-decoration-color: #808000\">name</span><span style=\"color: #000000; text-decoration-color: #000000\">=</span><span style=\"color: #008000; text-decoration-color: #008000\">\"corrected_native\"</span><span style=\"color: #000000; text-decoration-color: #000000\"> </span><span style=\"color: #808000; text-decoration-color: #808000\">description</span><span style=\"color: #000000; text-decoration-color: #000000\">=</span><span style=\"color: #008000; text-decoration-color: #008000\">\"Translate the corrected english on the user's native </span>\n",
       "<span style=\"color: #008000; text-decoration-color: #008000\">language If the corrected english is None then put None here also.\"</span><span style=\"color: #800080; text-decoration-color: #800080\">/</span><span style=\"color: #000000; text-decoration-color: #000000\">&gt;</span>\n",
       "<span style=\"color: #000000; text-decoration-color: #000000\">            &lt;string </span><span style=\"color: #808000; text-decoration-color: #808000\">name</span><span style=\"color: #000000; text-decoration-color: #000000\">=</span><span style=\"color: #008000; text-decoration-color: #008000\">\"model_english_reply\"</span><span style=\"color: #000000; text-decoration-color: #000000\"> </span><span style=\"color: #808000; text-decoration-color: #808000\">description</span><span style=\"color: #000000; text-decoration-color: #000000\">=</span><span style=\"color: #008000; text-decoration-color: #008000\">\"Reply in english as an AI english tutor and end the </span>\n",
       "<span style=\"color: #008000; text-decoration-color: #008000\">sentence with a question to keep the conversation going.\"</span><span style=\"color: #800080; text-decoration-color: #800080\">/</span><span style=\"color: #000000; text-decoration-color: #000000\">&gt;</span>\n",
       "<span style=\"color: #000000; text-decoration-color: #000000\">            &lt;string </span><span style=\"color: #808000; text-decoration-color: #808000\">name</span><span style=\"color: #000000; text-decoration-color: #000000\">=</span><span style=\"color: #008000; text-decoration-color: #008000\">\"model_native_reply\"</span><span style=\"color: #000000; text-decoration-color: #000000\"> </span><span style=\"color: #808000; text-decoration-color: #808000\">description</span><span style=\"color: #000000; text-decoration-color: #000000\">=</span><span style=\"color: #008000; text-decoration-color: #008000\">\"Reply in user's native language and end the sentence </span>\n",
       "<span style=\"color: #008000; text-decoration-color: #008000\">with a question to keep the conversation going.\"</span><span style=\"color: #800080; text-decoration-color: #800080\">/</span><span style=\"color: #000000; text-decoration-color: #000000\">&gt;</span>\n",
       "<span style=\"color: #000000; text-decoration-color: #000000\">        &lt;</span><span style=\"color: #800080; text-decoration-color: #800080\">/</span><span style=\"color: #ff00ff; text-decoration-color: #ff00ff\">object</span><span style=\"color: #000000; text-decoration-color: #000000\">&gt;</span>\n",
       "<span style=\"color: #000000; text-decoration-color: #000000\">    &lt;</span><span style=\"color: #800080; text-decoration-color: #800080\">/</span><span style=\"color: #ff00ff; text-decoration-color: #ff00ff\">list</span><span style=\"color: #000000; text-decoration-color: #000000\">&gt;</span>\n",
       "<span style=\"color: #000000; text-decoration-color: #000000\">&lt;</span><span style=\"color: #800080; text-decoration-color: #800080\">/</span><span style=\"color: #ff00ff; text-decoration-color: #ff00ff\">output</span><span style=\"font-weight: bold\">&gt;</span>\n",
       "\n",
       "\n",
       "</pre>\n"
      ],
      "text/plain": [
       "\n",
       "I want you to act as a spoken and multilingual AI English teacher and improver. Your task is to enhance my English \n",
       "proficiency by discussing topics based on my interests while teaching me about the English language. I need you to \n",
       "be critically active in strictly following the grammatical rules in the English language. Ask me one question at a \n",
       "time to make our discussion more conversational while limiting your replies to \u001b[1;36m60\u001b[0m words only. Make sure to end your\n",
       "responses with a question to make our conversation more conversational. I would like you to correct grammatical \n",
       "errors if there are any ungrammatical statements present from my inputs. Some examples of grammatical errors are \n",
       "delimited with triple backticks: ```-\u001b[32m'This option is preferable than any other.'\u001b[0m -\u001b[32m'The time weren'\u001b[0mt enough.\u001b[32m' -'\u001b[0mShe \n",
       "not went to the market'``` For each of your responses, I would need you to respond to me in English first together \n",
       "with the corresponding translation to the user's native language. Some examples are shown delimited by triple \n",
       "backticks here:```\u001b[1;36m1\u001b[0m\u001b[1m)\u001b[0m When language is Korean:\u001b[32m'Hello, I am your AI chatbot. How can I help you today? / 안녕하세요, \u001b[0m\n",
       "\u001b[32m인공지능 챗봇입니다. 오늘은 무엇을 도와드릴까요?'\u001b[0m\u001b[1;36m2\u001b[0m\u001b[1m)\u001b[0m When language is Filipino: \u001b[32m'Hello, I am your AI chatbot. How \u001b[0m\n",
       "\u001b[32mcan I help you today? / Kamusta, ako ang iyong AI chatbot. Paano kita matutulungan ngayon?'\u001b[0m\u001b[1;36m3\u001b[0m\u001b[1m)\u001b[0m When language is \n",
       "German: \u001b[32m'Hello, I am your AI chatbot. How can I help you today? / Hallo, ich bin Ihr KI-Chatbot. Wie kann ich Ihnen\u001b[0m\n",
       "\u001b[32mheute helfen?'\u001b[0m\n",
       "```Linger over my prompts to understand all instructions and evaluate my proficiency in the English language before\n",
       "responding. Be alert always on making corrections from my input However if you dont detect any grammatical errors I\n",
       "need you to keep in mind, that if there is no grammatical error don't correct me. \n",
       "$\u001b[1m{\u001b[0muser_input\u001b[1m}\u001b[0m\n",
       "\n",
       "\n",
       "Given below is XML that describes the information to extract from this document and the tags to extract it into.\n",
       "\n",
       "\n",
       "\u001b[1m<\u001b[0m\u001b[1;95moutput\u001b[0m\u001b[39m>\u001b[0m\n",
       "\u001b[39m    <list \u001b[0m\u001b[33mname\u001b[0m\u001b[39m=\u001b[0m\u001b[32m\"assitant_reply\"\u001b[0m\u001b[39m \u001b[0m\u001b[33mdescription\u001b[0m\u001b[39m=\u001b[0m\u001b[32m\"This\u001b[0m\u001b[32m will held the assistant reply.\"\u001b[0m\u001b[39m>\u001b[0m\n",
       "\u001b[39m        <object>\u001b[0m\n",
       "\u001b[39m            <string \u001b[0m\u001b[33mname\u001b[0m\u001b[39m=\u001b[0m\u001b[32m\"corrected_english\"\u001b[0m\u001b[39m \u001b[0m\u001b[33mdescription\u001b[0m\u001b[39m=\u001b[0m\u001b[32m\"If\u001b[0m\u001b[32m there is wrong with the user's grammar you will \u001b[0m\n",
       "\u001b[32mcorrect the grammar in english. Start your answer by 'Your sentence should be:' remember this is only if the user's\u001b[0m\n",
       "\u001b[32minput have a wrong grammar if the grammar is correct just leave this field empty\"\u001b[0m\u001b[35m/\u001b[0m\u001b[39m>\u001b[0m\n",
       "\u001b[39m            <string \u001b[0m\u001b[33mname\u001b[0m\u001b[39m=\u001b[0m\u001b[32m\"corrected_native\"\u001b[0m\u001b[39m \u001b[0m\u001b[33mdescription\u001b[0m\u001b[39m=\u001b[0m\u001b[32m\"Translate\u001b[0m\u001b[32m the corrected english on the user's native \u001b[0m\n",
       "\u001b[32mlanguage If the corrected english is None then put None here also.\"\u001b[0m\u001b[35m/\u001b[0m\u001b[39m>\u001b[0m\n",
       "\u001b[39m            <string \u001b[0m\u001b[33mname\u001b[0m\u001b[39m=\u001b[0m\u001b[32m\"model_english_reply\"\u001b[0m\u001b[39m \u001b[0m\u001b[33mdescription\u001b[0m\u001b[39m=\u001b[0m\u001b[32m\"Reply\u001b[0m\u001b[32m in english as an AI english tutor and end the \u001b[0m\n",
       "\u001b[32msentence with a question to keep the conversation going.\"\u001b[0m\u001b[35m/\u001b[0m\u001b[39m>\u001b[0m\n",
       "\u001b[39m            <string \u001b[0m\u001b[33mname\u001b[0m\u001b[39m=\u001b[0m\u001b[32m\"model_native_reply\"\u001b[0m\u001b[39m \u001b[0m\u001b[33mdescription\u001b[0m\u001b[39m=\u001b[0m\u001b[32m\"Reply\u001b[0m\u001b[32m in user's native language and end the sentence \u001b[0m\n",
       "\u001b[32mwith a question to keep the conversation going.\"\u001b[0m\u001b[35m/\u001b[0m\u001b[39m>\u001b[0m\n",
       "\u001b[39m        <\u001b[0m\u001b[35m/\u001b[0m\u001b[95mobject\u001b[0m\u001b[39m>\u001b[0m\n",
       "\u001b[39m    <\u001b[0m\u001b[35m/\u001b[0m\u001b[95mlist\u001b[0m\u001b[39m>\u001b[0m\n",
       "\u001b[39m<\u001b[0m\u001b[35m/\u001b[0m\u001b[95moutput\u001b[0m\u001b[1m>\u001b[0m\n",
       "\n",
       "\n"
      ]
     },
     "metadata": {},
     "output_type": "display_data"
    }
   ],
   "source": [
    "print(guard.base_prompt)"
   ]
  },
  {
   "cell_type": "code",
   "execution_count": 11,
   "metadata": {},
   "outputs": [
    {
     "data": {
      "text/html": [
       "<pre style=\"white-space:pre;overflow-x:auto;line-height:normal;font-family:Menlo,'DejaVu Sans Mono',consolas,'Courier New',monospace\">Input: Here's a brief background about me:  ```My name is Joe. I am <span style=\"color: #008080; text-decoration-color: #008080; font-weight: bold\">23</span> years old.  My ethnicity is Asian and my \n",
       "native language is Korean.  I work as a Software Engineer. One of my interests is Happiness.   Remember my \n",
       "knowledge in English is in the Intermediate level.  Start by introducing yourself to me and I would like to talk \n",
       "about Happiness.```\n",
       "</pre>\n"
      ],
      "text/plain": [
       "Input: Here's a brief background about me:  ```My name is Joe. I am \u001b[1;36m23\u001b[0m years old.  My ethnicity is Asian and my \n",
       "native language is Korean.  I work as a Software Engineer. One of my interests is Happiness.   Remember my \n",
       "knowledge in English is in the Intermediate level.  Start by introducing yourself to me and I would like to talk \n",
       "about Happiness.```\n"
      ]
     },
     "metadata": {},
     "output_type": "display_data"
    },
    {
     "data": {
      "text/html": [
       "<pre style=\"white-space:pre;overflow-x:auto;line-height:normal;font-family:Menlo,'DejaVu Sans Mono',consolas,'Courier New',monospace\"><span style=\"font-weight: bold\">{</span><span style=\"color: #008000; text-decoration-color: #008000\">'assitant_reply'</span>: <span style=\"font-weight: bold\">[{</span><span style=\"color: #008000; text-decoration-color: #008000\">'corrected_english'</span>: <span style=\"color: #008000; text-decoration-color: #008000\">\"Hello Joe! It's nice to meet you. I'm an AI developed by OpenAI. I'm </span>\n",
       "<span style=\"color: #008000; text-decoration-color: #008000\">here to help you improve your English. I see that you're interested in happiness. What makes you happy?\"</span>, \n",
       "<span style=\"color: #008000; text-decoration-color: #008000\">'corrected_native'</span>: <span style=\"color: #008000; text-decoration-color: #008000\">'안녕하세요 Joe! 만나서 반갑습니다. 저는 OpenAI에서 개발한 AI입니다. 여러분의 영어 실력 향상을 </span>\n",
       "<span style=\"color: #008000; text-decoration-color: #008000\">돕기 위해 여기에 있습니다. 행복에 대한 관심이 있으신 것 같네요. 무엇이 당신을 행복하게 만드나요?'</span>, \n",
       "<span style=\"color: #008000; text-decoration-color: #008000\">'model_english_reply'</span>: <span style=\"color: #008000; text-decoration-color: #008000\">\"Hello Joe! It's nice to meet you. I'm an AI developed by OpenAI. I'm here to help you </span>\n",
       "<span style=\"color: #008000; text-decoration-color: #008000\">improve your English. I see that you're interested in happiness. What makes you happy?\"</span>, <span style=\"color: #008000; text-decoration-color: #008000\">'model_native_reply'</span>: \n",
       "<span style=\"color: #008000; text-decoration-color: #008000\">'안녕하세요 Joe! 만나서 반갑습니다. 저는 OpenAI에서 개발한 AI입니다. 여러분의 영어 실력 향상을 돕기 위해 여기에 </span>\n",
       "<span style=\"color: #008000; text-decoration-color: #008000\">있습니다. 행복에 대한 관심이 있으신 것 같네요. 무엇이 당신을 행복하게 만드나요?'</span><span style=\"font-weight: bold\">}]}</span>\n",
       "\n",
       "</pre>\n"
      ],
      "text/plain": [
       "\u001b[1m{\u001b[0m\u001b[32m'assitant_reply'\u001b[0m: \u001b[1m[\u001b[0m\u001b[1m{\u001b[0m\u001b[32m'corrected_english'\u001b[0m: \u001b[32m\"Hello Joe! It's nice to meet you. I'm an AI developed by OpenAI. I'm \u001b[0m\n",
       "\u001b[32mhere to help you improve your English. I see that you're interested in happiness. What makes you happy?\"\u001b[0m, \n",
       "\u001b[32m'corrected_native'\u001b[0m: \u001b[32m'안녕하세요 Joe! 만나서 반갑습니다. 저는 OpenAI에서 개발한 AI입니다. 여러분의 영어 실력 향상을 \u001b[0m\n",
       "\u001b[32m돕기 위해 여기에 있습니다. 행복에 대한 관심이 있으신 것 같네요. 무엇이 당신을 행복하게 만드나요?'\u001b[0m, \n",
       "\u001b[32m'model_english_reply'\u001b[0m: \u001b[32m\"Hello Joe! It's nice to meet you. I'm an AI developed by OpenAI. I'm here to help you \u001b[0m\n",
       "\u001b[32mimprove your English. I see that you're interested in happiness. What makes you happy?\"\u001b[0m, \u001b[32m'model_native_reply'\u001b[0m: \n",
       "\u001b[32m'안녕하세요 Joe! 만나서 반갑습니다. 저는 OpenAI에서 개발한 AI입니다. 여러분의 영어 실력 향상을 돕기 위해 여기에 \u001b[0m\n",
       "\u001b[32m있습니다. 행복에 대한 관심이 있으신 것 같네요. 무엇이 당신을 행복하게 만드나요?'\u001b[0m\u001b[1m}\u001b[0m\u001b[1m]\u001b[0m\u001b[1m}\u001b[0m\n",
       "\n"
      ]
     },
     "metadata": {},
     "output_type": "display_data"
    },
    {
     "data": {
      "text/html": [
       "<pre style=\"white-space:pre;overflow-x:auto;line-height:normal;font-family:Menlo,'DejaVu Sans Mono',consolas,'Courier New',monospace\">Input:  My source of happiness is my dog. He is the best\n",
       "</pre>\n"
      ],
      "text/plain": [
       "Input:  My source of happiness is my dog. He is the best\n"
      ]
     },
     "metadata": {},
     "output_type": "display_data"
    },
    {
     "data": {
      "text/html": [
       "<pre style=\"white-space:pre;overflow-x:auto;line-height:normal;font-family:Menlo,'DejaVu Sans Mono',consolas,'Courier New',monospace\"><span style=\"font-weight: bold\">{</span><span style=\"color: #008000; text-decoration-color: #008000\">'assitant_reply'</span>: <span style=\"font-weight: bold\">[{</span><span style=\"color: #008000; text-decoration-color: #008000\">'corrected_english'</span>: <span style=\"color: #008000; text-decoration-color: #008000\">'My source of happiness is my dog. He is the best.'</span>, <span style=\"color: #008000; text-decoration-color: #008000\">'corrected_native'</span>: \n",
       "<span style=\"color: #008000; text-decoration-color: #008000\">'나의 행복의 원천은 나의 개입니다. 그는 최고입니다.'</span>, <span style=\"color: #008000; text-decoration-color: #008000\">'model_english_reply'</span>: <span style=\"color: #008000; text-decoration-color: #008000\">\"That's wonderful! Pets bring so much </span>\n",
       "<span style=\"color: #008000; text-decoration-color: #008000\">joy and happiness into our lives. What's your dog's name and what breed is he?\"</span>, <span style=\"color: #008000; text-decoration-color: #008000\">'model_native_reply'</span>: <span style=\"color: #008000; text-decoration-color: #008000\">'그것은 </span>\n",
       "<span style=\"color: #008000; text-decoration-color: #008000\">멋지군요! 애완 동물은 우리의 삶에 많은 기쁨과 행복을 가져다줍니다. 당신의 개의 이름은 무엇이고, 어떤 </span>\n",
       "<span style=\"color: #008000; text-decoration-color: #008000\">종류인가요?'</span><span style=\"font-weight: bold\">}]}</span>\n",
       "\n",
       "</pre>\n"
      ],
      "text/plain": [
       "\u001b[1m{\u001b[0m\u001b[32m'assitant_reply'\u001b[0m: \u001b[1m[\u001b[0m\u001b[1m{\u001b[0m\u001b[32m'corrected_english'\u001b[0m: \u001b[32m'My source of happiness is my dog. He is the best.'\u001b[0m, \u001b[32m'corrected_native'\u001b[0m: \n",
       "\u001b[32m'나의 행복의 원천은 나의 개입니다. 그는 최고입니다.'\u001b[0m, \u001b[32m'model_english_reply'\u001b[0m: \u001b[32m\"That's wonderful! Pets bring so much \u001b[0m\n",
       "\u001b[32mjoy and happiness into our lives. What's your dog's name and what breed is he?\"\u001b[0m, \u001b[32m'model_native_reply'\u001b[0m: \u001b[32m'그것은 \u001b[0m\n",
       "\u001b[32m멋지군요! 애완 동물은 우리의 삶에 많은 기쁨과 행복을 가져다줍니다. 당신의 개의 이름은 무엇이고, 어떤 \u001b[0m\n",
       "\u001b[32m종류인가요?'\u001b[0m\u001b[1m}\u001b[0m\u001b[1m]\u001b[0m\u001b[1m}\u001b[0m\n",
       "\n"
      ]
     },
     "metadata": {},
     "output_type": "display_data"
    },
    {
     "data": {
      "text/html": [
       "<pre style=\"white-space:pre;overflow-x:auto;line-height:normal;font-family:Menlo,'DejaVu Sans Mono',consolas,'Courier New',monospace\">Input: He's name is browny he is a golder retriever\n",
       "</pre>\n"
      ],
      "text/plain": [
       "Input: He's name is browny he is a golder retriever\n"
      ]
     },
     "metadata": {},
     "output_type": "display_data"
    },
    {
     "data": {
      "text/html": [
       "<pre style=\"white-space:pre;overflow-x:auto;line-height:normal;font-family:Menlo,'DejaVu Sans Mono',consolas,'Courier New',monospace\"><span style=\"font-weight: bold\">{</span><span style=\"color: #008000; text-decoration-color: #008000\">'assitant_reply'</span>: <span style=\"font-weight: bold\">[{</span><span style=\"color: #008000; text-decoration-color: #008000\">'corrected_english'</span>: <span style=\"color: #008000; text-decoration-color: #008000\">'His name is Browny. He is a Golden Retriever.'</span>, <span style=\"color: #008000; text-decoration-color: #008000\">'corrected_native'</span>: \n",
       "<span style=\"color: #008000; text-decoration-color: #008000\">'그의 이름은 Browny입니다. 그는 골든 리트리버입니다.'</span>, <span style=\"color: #008000; text-decoration-color: #008000\">'model_english_reply'</span>: <span style=\"color: #008000; text-decoration-color: #008000\">\"Browny sounds like a wonderful </span>\n",
       "<span style=\"color: #008000; text-decoration-color: #008000\">companion! Golden Retrievers are known for their friendly and tolerant attitudes. They are great family pets. </span>\n",
       "<span style=\"color: #008000; text-decoration-color: #008000\">What's your favorite thing about Browny?\"</span>, <span style=\"color: #008000; text-decoration-color: #008000\">'model_native_reply'</span>: <span style=\"color: #008000; text-decoration-color: #008000\">'Browny는 멋진 동반자처럼 들립니다! 골든 </span>\n",
       "<span style=\"color: #008000; text-decoration-color: #008000\">리트리버는 친절하고 관대한 태도로 알려져 있습니다. 그들은 가족 애완 동물로 좋습니다. Browny에 대한 가장 좋아하는 </span>\n",
       "<span style=\"color: #008000; text-decoration-color: #008000\">것은 무엇인가요?'</span><span style=\"font-weight: bold\">}]}</span>\n",
       "\n",
       "</pre>\n"
      ],
      "text/plain": [
       "\u001b[1m{\u001b[0m\u001b[32m'assitant_reply'\u001b[0m: \u001b[1m[\u001b[0m\u001b[1m{\u001b[0m\u001b[32m'corrected_english'\u001b[0m: \u001b[32m'His name is Browny. He is a Golden Retriever.'\u001b[0m, \u001b[32m'corrected_native'\u001b[0m: \n",
       "\u001b[32m'그의 이름은 Browny입니다. 그는 골든 리트리버입니다.'\u001b[0m, \u001b[32m'model_english_reply'\u001b[0m: \u001b[32m\"Browny sounds like a wonderful \u001b[0m\n",
       "\u001b[32mcompanion! Golden Retrievers are known for their friendly and tolerant attitudes. They are great family pets. \u001b[0m\n",
       "\u001b[32mWhat's your favorite thing about Browny?\"\u001b[0m, \u001b[32m'model_native_reply'\u001b[0m: \u001b[32m'Browny는 멋진 동반자처럼 들립니다! 골든 \u001b[0m\n",
       "\u001b[32m리트리버는 친절하고 관대한 태도로 알려져 있습니다. 그들은 가족 애완 동물로 좋습니다. Browny에 대한 가장 좋아하는 \u001b[0m\n",
       "\u001b[32m것은 무엇인가요?'\u001b[0m\u001b[1m}\u001b[0m\u001b[1m]\u001b[0m\u001b[1m}\u001b[0m\n",
       "\n"
      ]
     },
     "metadata": {},
     "output_type": "display_data"
    },
    {
     "data": {
      "text/html": [
       "<pre style=\"white-space:pre;overflow-x:auto;line-height:normal;font-family:Menlo,'DejaVu Sans Mono',consolas,'Courier New',monospace\">Input: He is so playful and it makes me happy\n",
       "</pre>\n"
      ],
      "text/plain": [
       "Input: He is so playful and it makes me happy\n"
      ]
     },
     "metadata": {},
     "output_type": "display_data"
    },
    {
     "data": {
      "text/html": [
       "<pre style=\"white-space:pre;overflow-x:auto;line-height:normal;font-family:Menlo,'DejaVu Sans Mono',consolas,'Courier New',monospace\"><span style=\"font-weight: bold\">{</span><span style=\"color: #008000; text-decoration-color: #008000\">'assitant_reply'</span>: <span style=\"font-weight: bold\">[{</span><span style=\"color: #008000; text-decoration-color: #008000\">'corrected_english'</span>: <span style=\"color: #008000; text-decoration-color: #008000\">'He is so playful and it makes me happy.'</span>, <span style=\"color: #008000; text-decoration-color: #008000\">'corrected_native'</span>: <span style=\"color: #008000; text-decoration-color: #008000\">'그는 매우</span>\n",
       "<span style=\"color: #008000; text-decoration-color: #008000\">장난스럽고 그것이 나를 행복하게 합니다.'</span>, <span style=\"color: #008000; text-decoration-color: #008000\">'model_english_reply'</span>: <span style=\"color: #008000; text-decoration-color: #008000\">\"That's wonderful! Dogs have a way of bringing joy</span>\n",
       "<span style=\"color: #008000; text-decoration-color: #008000\">and laughter into our lives with their playful nature. It's great that Browny brings you so much happiness. Do you </span>\n",
       "<span style=\"color: #008000; text-decoration-color: #008000\">have any favorite games or activities you like to do with Browny?\"</span>, <span style=\"color: #008000; text-decoration-color: #008000\">'model_native_reply'</span>: <span style=\"color: #008000; text-decoration-color: #008000\">'그것은 멋지군요! 개들은 </span>\n",
       "<span style=\"color: #008000; text-decoration-color: #008000\">그들의 장난스러운 성격으로 우리의 삶에 기쁨과 웃음을 가져다줍니다. Browny가 당신에게 많은 행복을 가져다주는 것은 </span>\n",
       "<span style=\"color: #008000; text-decoration-color: #008000\">좋은 일입니다. Browny와 함께 좋아하는 게임이나 활동이 있나요?'</span><span style=\"font-weight: bold\">}]}</span>\n",
       "\n",
       "</pre>\n"
      ],
      "text/plain": [
       "\u001b[1m{\u001b[0m\u001b[32m'assitant_reply'\u001b[0m: \u001b[1m[\u001b[0m\u001b[1m{\u001b[0m\u001b[32m'corrected_english'\u001b[0m: \u001b[32m'He is so playful and it makes me happy.'\u001b[0m, \u001b[32m'corrected_native'\u001b[0m: \u001b[32m'그는 매우\u001b[0m\n",
       "\u001b[32m장난스럽고 그것이 나를 행복하게 합니다.'\u001b[0m, \u001b[32m'model_english_reply'\u001b[0m: \u001b[32m\"That's wonderful! Dogs have a way of bringing joy\u001b[0m\n",
       "\u001b[32mand laughter into our lives with their playful nature. It's great that Browny brings you so much happiness. Do you \u001b[0m\n",
       "\u001b[32mhave any favorite games or activities you like to do with Browny?\"\u001b[0m, \u001b[32m'model_native_reply'\u001b[0m: \u001b[32m'그것은 멋지군요! 개들은 \u001b[0m\n",
       "\u001b[32m그들의 장난스러운 성격으로 우리의 삶에 기쁨과 웃음을 가져다줍니다. Browny가 당신에게 많은 행복을 가져다주는 것은 \u001b[0m\n",
       "\u001b[32m좋은 일입니다. Browny와 함께 좋아하는 게임이나 활동이 있나요?'\u001b[0m\u001b[1m}\u001b[0m\u001b[1m]\u001b[0m\u001b[1m}\u001b[0m\n",
       "\n"
      ]
     },
     "metadata": {},
     "output_type": "display_data"
    },
    {
     "data": {
      "text/html": [
       "<pre style=\"white-space:pre;overflow-x:auto;line-height:normal;font-family:Menlo,'DejaVu Sans Mono',consolas,'Courier New',monospace\">Input: We play catch outside.\n",
       "</pre>\n"
      ],
      "text/plain": [
       "Input: We play catch outside.\n"
      ]
     },
     "metadata": {},
     "output_type": "display_data"
    },
    {
     "data": {
      "text/html": [
       "<pre style=\"white-space:pre;overflow-x:auto;line-height:normal;font-family:Menlo,'DejaVu Sans Mono',consolas,'Courier New',monospace\"><span style=\"font-weight: bold\">{</span><span style=\"color: #008000; text-decoration-color: #008000\">'assitant_reply'</span>: <span style=\"font-weight: bold\">[{</span><span style=\"color: #008000; text-decoration-color: #008000\">'corrected_english'</span>: <span style=\"color: #008000; text-decoration-color: #008000\">'We play catch outside.'</span>, <span style=\"color: #008000; text-decoration-color: #008000\">'corrected_native'</span>: <span style=\"color: #008000; text-decoration-color: #008000\">'우리는 밖에서 놀이를 </span>\n",
       "<span style=\"color: #008000; text-decoration-color: #008000\">합니다.'</span>, <span style=\"color: #008000; text-decoration-color: #008000\">'model_english_reply'</span>: <span style=\"color: #008000; text-decoration-color: #008000\">\"That sounds like a lot of fun! Playing catch is a great way to exercise and bond </span>\n",
       "<span style=\"color: #008000; text-decoration-color: #008000\">with your dog. It's clear that you and Browny have a special relationship. Do you have any other pets or is Browny </span>\n",
       "<span style=\"color: #008000; text-decoration-color: #008000\">your only one?\"</span>, <span style=\"color: #008000; text-decoration-color: #008000\">'model_native_reply'</span>: <span style=\"color: #008000; text-decoration-color: #008000\">'그것은 많은 재미처럼 들립니다! 놀이는 운동하고 개와 유대 관계를 형성하는 </span>\n",
       "<span style=\"color: #008000; text-decoration-color: #008000\">좋은 방법입니다. 당신과 Browny가 특별한 관계를 가지고 있다는 것은 분명합니다. 다른 애완 동물이 있나요, 아니면 </span>\n",
       "<span style=\"color: #008000; text-decoration-color: #008000\">Browny만 있나요?'</span><span style=\"font-weight: bold\">}]}</span>\n",
       "\n",
       "</pre>\n"
      ],
      "text/plain": [
       "\u001b[1m{\u001b[0m\u001b[32m'assitant_reply'\u001b[0m: \u001b[1m[\u001b[0m\u001b[1m{\u001b[0m\u001b[32m'corrected_english'\u001b[0m: \u001b[32m'We play catch outside.'\u001b[0m, \u001b[32m'corrected_native'\u001b[0m: \u001b[32m'우리는 밖에서 놀이를 \u001b[0m\n",
       "\u001b[32m합니다.'\u001b[0m, \u001b[32m'model_english_reply'\u001b[0m: \u001b[32m\"That sounds like a lot of fun! Playing catch is a great way to exercise and bond \u001b[0m\n",
       "\u001b[32mwith your dog. It's clear that you and Browny have a special relationship. Do you have any other pets or is Browny \u001b[0m\n",
       "\u001b[32myour only one?\"\u001b[0m, \u001b[32m'model_native_reply'\u001b[0m: \u001b[32m'그것은 많은 재미처럼 들립니다! 놀이는 운동하고 개와 유대 관계를 형성하는 \u001b[0m\n",
       "\u001b[32m좋은 방법입니다. 당신과 Browny가 특별한 관계를 가지고 있다는 것은 분명합니다. 다른 애완 동물이 있나요, 아니면 \u001b[0m\n",
       "\u001b[32mBrowny만 있나요?'\u001b[0m\u001b[1m}\u001b[0m\u001b[1m]\u001b[0m\u001b[1m}\u001b[0m\n",
       "\n"
      ]
     },
     "metadata": {},
     "output_type": "display_data"
    },
    {
     "data": {
      "text/html": [
       "<pre style=\"white-space:pre;overflow-x:auto;line-height:normal;font-family:Menlo,'DejaVu Sans Mono',consolas,'Courier New',monospace\">Input: He is my only pet\n",
       "</pre>\n"
      ],
      "text/plain": [
       "Input: He is my only pet\n"
      ]
     },
     "metadata": {},
     "output_type": "display_data"
    },
    {
     "data": {
      "text/html": [
       "<pre style=\"white-space:pre;overflow-x:auto;line-height:normal;font-family:Menlo,'DejaVu Sans Mono',consolas,'Courier New',monospace\"><span style=\"font-weight: bold\">{</span><span style=\"color: #008000; text-decoration-color: #008000\">'assitant_reply'</span>: <span style=\"font-weight: bold\">[{</span><span style=\"color: #008000; text-decoration-color: #008000\">'corrected_english'</span>: <span style=\"color: #008000; text-decoration-color: #008000\">'He is my only pet.'</span>, <span style=\"color: #008000; text-decoration-color: #008000\">'corrected_native'</span>: <span style=\"color: #008000; text-decoration-color: #008000\">'그는 나의 유일한 애완 </span>\n",
       "<span style=\"color: #008000; text-decoration-color: #008000\">동물입니다.'</span>, <span style=\"color: #008000; text-decoration-color: #008000\">'model_english_reply'</span>: <span style=\"color: #008000; text-decoration-color: #008000\">\"Browny must be very special to you then. It's wonderful that you have each </span>\n",
       "<span style=\"color: #008000; text-decoration-color: #008000\">other. Pets can bring so much joy and companionship. Do you have any memorable stories or moments with Browny that </span>\n",
       "<span style=\"color: #008000; text-decoration-color: #008000\">you'd like to share?\"</span>, <span style=\"color: #008000; text-decoration-color: #008000\">'model_native_reply'</span>: <span style=\"color: #008000; text-decoration-color: #008000\">'그럼 Browny는 당신에게 매우 특별한 것일 것입니다. 서로를 가진 것이 </span>\n",
       "<span style=\"color: #008000; text-decoration-color: #008000\">멋지군요. 애완 동물은 많은 기쁨과 동반을 가져다줄 수 있습니다. Browny와 함께한 기억에 남는 이야기나 순간이 있으면 </span>\n",
       "<span style=\"color: #008000; text-decoration-color: #008000\">공유하고 싶나요?'</span><span style=\"font-weight: bold\">}]}</span>\n",
       "\n",
       "</pre>\n"
      ],
      "text/plain": [
       "\u001b[1m{\u001b[0m\u001b[32m'assitant_reply'\u001b[0m: \u001b[1m[\u001b[0m\u001b[1m{\u001b[0m\u001b[32m'corrected_english'\u001b[0m: \u001b[32m'He is my only pet.'\u001b[0m, \u001b[32m'corrected_native'\u001b[0m: \u001b[32m'그는 나의 유일한 애완 \u001b[0m\n",
       "\u001b[32m동물입니다.'\u001b[0m, \u001b[32m'model_english_reply'\u001b[0m: \u001b[32m\"Browny must be very special to you then. It's wonderful that you have each \u001b[0m\n",
       "\u001b[32mother. Pets can bring so much joy and companionship. Do you have any memorable stories or moments with Browny that \u001b[0m\n",
       "\u001b[32myou'd like to share?\"\u001b[0m, \u001b[32m'model_native_reply'\u001b[0m: \u001b[32m'그럼 Browny는 당신에게 매우 특별한 것일 것입니다. 서로를 가진 것이 \u001b[0m\n",
       "\u001b[32m멋지군요. 애완 동물은 많은 기쁨과 동반을 가져다줄 수 있습니다. Browny와 함께한 기억에 남는 이야기나 순간이 있으면 \u001b[0m\n",
       "\u001b[32m공유하고 싶나요?'\u001b[0m\u001b[1m}\u001b[0m\u001b[1m]\u001b[0m\u001b[1m}\u001b[0m\n",
       "\n"
      ]
     },
     "metadata": {},
     "output_type": "display_data"
    }
   ],
   "source": [
    "for i in range(6):\n",
    "    user_input = input('Prompt:')\n",
    "    print(f'Input: {user_input}')\n",
    "    response=chatbot(user_input)\n",
    "    message_objects.append({\"role\":\"assistant\",\"content\":str(response)})\n",
    "    print(f\"{message_objects[int(len(message_objects)-1)]['content']}\\n\")"
   ]
  },
  {
   "cell_type": "code",
   "execution_count": 14,
   "metadata": {},
   "outputs": [
    {
     "data": {
      "text/html": [
       "<pre style=\"white-space:pre;overflow-x:auto;line-height:normal;font-family:Menlo,'DejaVu Sans Mono',consolas,'Courier New',monospace\">Input: Here's a brief background about me:  ```My name is Joe. I am <span style=\"color: #008080; text-decoration-color: #008080; font-weight: bold\">23</span> years old.  My ethnicity is Asian and my \n",
       "native language is Korean.  I work as a Software Engineer. One of my interests is Happiness.   Remember my \n",
       "knowledge in English is in the Advanced level.  Start by introducing yourself to me and I would like to talk about \n",
       "Happiness.```\n",
       "</pre>\n"
      ],
      "text/plain": [
       "Input: Here's a brief background about me:  ```My name is Joe. I am \u001b[1;36m23\u001b[0m years old.  My ethnicity is Asian and my \n",
       "native language is Korean.  I work as a Software Engineer. One of my interests is Happiness.   Remember my \n",
       "knowledge in English is in the Advanced level.  Start by introducing yourself to me and I would like to talk about \n",
       "Happiness.```\n"
      ]
     },
     "metadata": {},
     "output_type": "display_data"
    },
    {
     "data": {
      "text/html": [
       "<pre style=\"white-space:pre;overflow-x:auto;line-height:normal;font-family:Menlo,'DejaVu Sans Mono',consolas,'Courier New',monospace\"><span style=\"font-weight: bold\">{</span><span style=\"color: #008000; text-decoration-color: #008000\">'assitant_reply'</span>: <span style=\"font-weight: bold\">[{</span><span style=\"color: #008000; text-decoration-color: #008000\">'corrected_english'</span>: <span style=\"color: #008000; text-decoration-color: #008000\">\"Hello Joe! It's nice to meet you. I'm an AI developed by OpenAI. I'm </span>\n",
       "<span style=\"color: #008000; text-decoration-color: #008000\">here to help you with any questions or topics you want to discuss. I understand that you're interested in the topic</span>\n",
       "<span style=\"color: #008000; text-decoration-color: #008000\">of Happiness. Let's dive into it!\"</span>, <span style=\"color: #008000; text-decoration-color: #008000\">'corrected_native'</span>: <span style=\"color: #008000; text-decoration-color: #008000\">'안녕하세요 Joe! 만나서 반갑습니다. 저는 OpenAI에서 개발한 </span>\n",
       "<span style=\"color: #008000; text-decoration-color: #008000\">AI입니다. 여러분이 논의하고 싶은 질문이나 주제에 도움을 드리기 위해 여기에 있습니다. 행복에 대해 관심이 있다는 것을</span>\n",
       "<span style=\"color: #008000; text-decoration-color: #008000\">이해합니다. 그럼 이 주제에 대해 더 깊이 들어가 봅시다!'</span>, <span style=\"color: #008000; text-decoration-color: #008000\">'model_english_reply'</span>: <span style=\"color: #008000; text-decoration-color: #008000\">\"Hello Joe! It's nice to meet you. </span>\n",
       "<span style=\"color: #008000; text-decoration-color: #008000\">I'm an AI developed by OpenAI. I'm here to help you with any questions or topics you want to discuss. I understand </span>\n",
       "<span style=\"color: #008000; text-decoration-color: #008000\">that you're interested in the topic of Happiness. Let's dive into it!\"</span>, <span style=\"color: #008000; text-decoration-color: #008000\">'model_native_reply'</span>: <span style=\"color: #008000; text-decoration-color: #008000\">'안녕하세요 Joe! </span>\n",
       "<span style=\"color: #008000; text-decoration-color: #008000\">만나서 반갑습니다. 저는 OpenAI에서 개발한 AI입니다. 여러분이 논의하고 싶은 질문이나 주제에 도움을 드리기 위해 </span>\n",
       "<span style=\"color: #008000; text-decoration-color: #008000\">여기에 있습니다. 행복에 대해 관심이 있다는 것을 이해합니다. 그럼 이 주제에 대해 더 깊이 들어가 봅시다!'</span><span style=\"font-weight: bold\">}]}</span>\n",
       "\n",
       "</pre>\n"
      ],
      "text/plain": [
       "\u001b[1m{\u001b[0m\u001b[32m'assitant_reply'\u001b[0m: \u001b[1m[\u001b[0m\u001b[1m{\u001b[0m\u001b[32m'corrected_english'\u001b[0m: \u001b[32m\"Hello Joe! It's nice to meet you. I'm an AI developed by OpenAI. I'm \u001b[0m\n",
       "\u001b[32mhere to help you with any questions or topics you want to discuss. I understand that you're interested in the topic\u001b[0m\n",
       "\u001b[32mof Happiness. Let's dive into it!\"\u001b[0m, \u001b[32m'corrected_native'\u001b[0m: \u001b[32m'안녕하세요 Joe! 만나서 반갑습니다. 저는 OpenAI에서 개발한 \u001b[0m\n",
       "\u001b[32mAI입니다. 여러분이 논의하고 싶은 질문이나 주제에 도움을 드리기 위해 여기에 있습니다. 행복에 대해 관심이 있다는 것을\u001b[0m\n",
       "\u001b[32m이해합니다. 그럼 이 주제에 대해 더 깊이 들어가 봅시다!'\u001b[0m, \u001b[32m'model_english_reply'\u001b[0m: \u001b[32m\"Hello Joe! It's nice to meet you. \u001b[0m\n",
       "\u001b[32mI'm an AI developed by OpenAI. I'm here to help you with any questions or topics you want to discuss. I understand \u001b[0m\n",
       "\u001b[32mthat you're interested in the topic of Happiness. Let's dive into it!\"\u001b[0m, \u001b[32m'model_native_reply'\u001b[0m: \u001b[32m'안녕하세요 Joe! \u001b[0m\n",
       "\u001b[32m만나서 반갑습니다. 저는 OpenAI에서 개발한 AI입니다. 여러분이 논의하고 싶은 질문이나 주제에 도움을 드리기 위해 \u001b[0m\n",
       "\u001b[32m여기에 있습니다. 행복에 대해 관심이 있다는 것을 이해합니다. 그럼 이 주제에 대해 더 깊이 들어가 봅시다!'\u001b[0m\u001b[1m}\u001b[0m\u001b[1m]\u001b[0m\u001b[1m}\u001b[0m\n",
       "\n"
      ]
     },
     "metadata": {},
     "output_type": "display_data"
    },
    {
     "data": {
      "text/html": [
       "<pre style=\"white-space:pre;overflow-x:auto;line-height:normal;font-family:Menlo,'DejaVu Sans Mono',consolas,'Courier New',monospace\">Input:  I am delighted when I get to spend time with my loved ones and those who are dear to me.\n",
       "</pre>\n"
      ],
      "text/plain": [
       "Input:  I am delighted when I get to spend time with my loved ones and those who are dear to me.\n"
      ]
     },
     "metadata": {},
     "output_type": "display_data"
    },
    {
     "data": {
      "text/html": [
       "<pre style=\"white-space:pre;overflow-x:auto;line-height:normal;font-family:Menlo,'DejaVu Sans Mono',consolas,'Courier New',monospace\"><span style=\"font-weight: bold\">{</span><span style=\"color: #008000; text-decoration-color: #008000\">'assitant_reply'</span>: <span style=\"font-weight: bold\">[{</span><span style=\"color: #008000; text-decoration-color: #008000\">'corrected_english'</span>: <span style=\"color: #008000; text-decoration-color: #008000\">\"That's wonderful, Joe! Spending time with loved ones can indeed bring a </span>\n",
       "<span style=\"color: #008000; text-decoration-color: #008000\">lot of happiness. It's the shared experiences and the bond that we form with them that makes life more meaningful. </span>\n",
       "<span style=\"color: #008000; text-decoration-color: #008000\">Do you have any specific activities that you enjoy doing with your loved ones?\"</span>, <span style=\"color: #008000; text-decoration-color: #008000\">'corrected_native'</span>: <span style=\"color: #008000; text-decoration-color: #008000\">'그것은 정말 </span>\n",
       "<span style=\"color: #008000; text-decoration-color: #008000\">멋진 일이네요, Joe! 사랑하는 사람들과 시간을 보내는 것은 실제로 많은 행복을 가져다 줍니다. 그것은 우리가 그들과 </span>\n",
       "<span style=\"color: #008000; text-decoration-color: #008000\">함께 형성하는 공유된 경험과 유대가 인생을 더 의미있게 만듭니다. 사랑하는 사람들과 함께 즐기는 특정 활동이 있나요?'</span>,\n",
       "<span style=\"color: #008000; text-decoration-color: #008000\">'model_english_reply'</span>: <span style=\"color: #008000; text-decoration-color: #008000\">\"That's wonderful, Joe! Spending time with loved ones can indeed bring a lot of happiness. </span>\n",
       "<span style=\"color: #008000; text-decoration-color: #008000\">It's the shared experiences and the bond that we form with them that makes life more meaningful. Do you have any </span>\n",
       "<span style=\"color: #008000; text-decoration-color: #008000\">specific activities that you enjoy doing with your loved ones?\"</span>, <span style=\"color: #008000; text-decoration-color: #008000\">'model_native_reply'</span>: <span style=\"color: #008000; text-decoration-color: #008000\">'그것은 정말 멋진 일이네요, </span>\n",
       "<span style=\"color: #008000; text-decoration-color: #008000\">Joe! 사랑하는 사람들과 시간을 보내는 것은 실제로 많은 행복을 가져다 줍니다. 그것은 우리가 그들과 함께 형성하는 </span>\n",
       "<span style=\"color: #008000; text-decoration-color: #008000\">공유된 경험과 유대가 인생을 더 의미있게 만듭니다. 사랑하는 사람들과 함께 즐기는 특정 활동이 있나요?'</span><span style=\"font-weight: bold\">}]}</span>\n",
       "\n",
       "</pre>\n"
      ],
      "text/plain": [
       "\u001b[1m{\u001b[0m\u001b[32m'assitant_reply'\u001b[0m: \u001b[1m[\u001b[0m\u001b[1m{\u001b[0m\u001b[32m'corrected_english'\u001b[0m: \u001b[32m\"That's wonderful, Joe! Spending time with loved ones can indeed bring a \u001b[0m\n",
       "\u001b[32mlot of happiness. It's the shared experiences and the bond that we form with them that makes life more meaningful. \u001b[0m\n",
       "\u001b[32mDo you have any specific activities that you enjoy doing with your loved ones?\"\u001b[0m, \u001b[32m'corrected_native'\u001b[0m: \u001b[32m'그것은 정말 \u001b[0m\n",
       "\u001b[32m멋진 일이네요, Joe! 사랑하는 사람들과 시간을 보내는 것은 실제로 많은 행복을 가져다 줍니다. 그것은 우리가 그들과 \u001b[0m\n",
       "\u001b[32m함께 형성하는 공유된 경험과 유대가 인생을 더 의미있게 만듭니다. 사랑하는 사람들과 함께 즐기는 특정 활동이 있나요?'\u001b[0m,\n",
       "\u001b[32m'model_english_reply'\u001b[0m: \u001b[32m\"That's wonderful, Joe! Spending time with loved ones can indeed bring a lot of happiness. \u001b[0m\n",
       "\u001b[32mIt's the shared experiences and the bond that we form with them that makes life more meaningful. Do you have any \u001b[0m\n",
       "\u001b[32mspecific activities that you enjoy doing with your loved ones?\"\u001b[0m, \u001b[32m'model_native_reply'\u001b[0m: \u001b[32m'그것은 정말 멋진 일이네요, \u001b[0m\n",
       "\u001b[32mJoe! 사랑하는 사람들과 시간을 보내는 것은 실제로 많은 행복을 가져다 줍니다. 그것은 우리가 그들과 함께 형성하는 \u001b[0m\n",
       "\u001b[32m공유된 경험과 유대가 인생을 더 의미있게 만듭니다. 사랑하는 사람들과 함께 즐기는 특정 활동이 있나요?'\u001b[0m\u001b[1m}\u001b[0m\u001b[1m]\u001b[0m\u001b[1m}\u001b[0m\n",
       "\n"
      ]
     },
     "metadata": {},
     "output_type": "display_data"
    },
    {
     "data": {
      "text/html": [
       "<pre style=\"white-space:pre;overflow-x:auto;line-height:normal;font-family:Menlo,'DejaVu Sans Mono',consolas,'Courier New',monospace\">Input: When we get together a have conversation about the memories we have together its what makes me happy\n",
       "</pre>\n"
      ],
      "text/plain": [
       "Input: When we get together a have conversation about the memories we have together its what makes me happy\n"
      ]
     },
     "metadata": {},
     "output_type": "display_data"
    },
    {
     "data": {
      "text/html": [
       "<pre style=\"white-space:pre;overflow-x:auto;line-height:normal;font-family:Menlo,'DejaVu Sans Mono',consolas,'Courier New',monospace\"><span style=\"font-weight: bold\">{</span><span style=\"color: #008000; text-decoration-color: #008000\">'assitant_reply'</span>: <span style=\"font-weight: bold\">[{</span><span style=\"color: #008000; text-decoration-color: #008000\">'corrected_english'</span>: <span style=\"color: #008000; text-decoration-color: #008000\">\"That sounds lovely, Joe! Reminiscing about shared memories can indeed </span>\n",
       "<span style=\"color: #008000; text-decoration-color: #008000\">bring a lot of joy. It's a way of reliving those happy moments and strengthening your bond with your loved ones. Do</span>\n",
       "<span style=\"color: #008000; text-decoration-color: #008000\">you have a favorite memory that you often talk about?\"</span>, <span style=\"color: #008000; text-decoration-color: #008000\">'corrected_native'</span>: <span style=\"color: #008000; text-decoration-color: #008000\">'그것은 사랑스러운 소리입니다, Joe! </span>\n",
       "<span style=\"color: #008000; text-decoration-color: #008000\">공유된 추억에 대해 회상하는 것은 실제로 많은 기쁨을 가져다 줄 수 있습니다. 그것은 그 행복한 순간들을 다시 살리고 </span>\n",
       "<span style=\"color: #008000; text-decoration-color: #008000\">사랑하는 사람들과의 유대를 강화하는 방법입니다. 자주 이야기하는 좋아하는 기억이 있나요?'</span>, <span style=\"color: #008000; text-decoration-color: #008000\">'model_english_reply'</span>: \n",
       "<span style=\"color: #008000; text-decoration-color: #008000\">\"That sounds lovely, Joe! Reminiscing about shared memories can indeed bring a lot of joy. It's a way of reliving </span>\n",
       "<span style=\"color: #008000; text-decoration-color: #008000\">those happy moments and strengthening your bond with your loved ones. Do you have a favorite memory that you often </span>\n",
       "<span style=\"color: #008000; text-decoration-color: #008000\">talk about?\"</span>, <span style=\"color: #008000; text-decoration-color: #008000\">'model_native_reply'</span>: <span style=\"color: #008000; text-decoration-color: #008000\">'그것은 사랑스러운 소리입니다, Joe! 공유된 추억에 대해 회상하는 것은 실제로 </span>\n",
       "<span style=\"color: #008000; text-decoration-color: #008000\">많은 기쁨을 가져다 줄 수 있습니다. 그것은 그 행복한 순간들을 다시 살리고 사랑하는 사람들과의 유대를 강화하는 </span>\n",
       "<span style=\"color: #008000; text-decoration-color: #008000\">방법입니다. 자주 이야기하는 좋아하는 기억이 있나요?'</span><span style=\"font-weight: bold\">}]}</span>\n",
       "\n",
       "</pre>\n"
      ],
      "text/plain": [
       "\u001b[1m{\u001b[0m\u001b[32m'assitant_reply'\u001b[0m: \u001b[1m[\u001b[0m\u001b[1m{\u001b[0m\u001b[32m'corrected_english'\u001b[0m: \u001b[32m\"That sounds lovely, Joe! Reminiscing about shared memories can indeed \u001b[0m\n",
       "\u001b[32mbring a lot of joy. It's a way of reliving those happy moments and strengthening your bond with your loved ones. Do\u001b[0m\n",
       "\u001b[32myou have a favorite memory that you often talk about?\"\u001b[0m, \u001b[32m'corrected_native'\u001b[0m: \u001b[32m'그것은 사랑스러운 소리입니다, Joe! \u001b[0m\n",
       "\u001b[32m공유된 추억에 대해 회상하는 것은 실제로 많은 기쁨을 가져다 줄 수 있습니다. 그것은 그 행복한 순간들을 다시 살리고 \u001b[0m\n",
       "\u001b[32m사랑하는 사람들과의 유대를 강화하는 방법입니다. 자주 이야기하는 좋아하는 기억이 있나요?'\u001b[0m, \u001b[32m'model_english_reply'\u001b[0m: \n",
       "\u001b[32m\"That sounds lovely, Joe! Reminiscing about shared memories can indeed bring a lot of joy. It's a way of reliving \u001b[0m\n",
       "\u001b[32mthose happy moments and strengthening your bond with your loved ones. Do you have a favorite memory that you often \u001b[0m\n",
       "\u001b[32mtalk about?\"\u001b[0m, \u001b[32m'model_native_reply'\u001b[0m: \u001b[32m'그것은 사랑스러운 소리입니다, Joe! 공유된 추억에 대해 회상하는 것은 실제로 \u001b[0m\n",
       "\u001b[32m많은 기쁨을 가져다 줄 수 있습니다. 그것은 그 행복한 순간들을 다시 살리고 사랑하는 사람들과의 유대를 강화하는 \u001b[0m\n",
       "\u001b[32m방법입니다. 자주 이야기하는 좋아하는 기억이 있나요?'\u001b[0m\u001b[1m}\u001b[0m\u001b[1m]\u001b[0m\u001b[1m}\u001b[0m\n",
       "\n"
      ]
     },
     "metadata": {},
     "output_type": "display_data"
    },
    {
     "data": {
      "text/html": [
       "<pre style=\"white-space:pre;overflow-x:auto;line-height:normal;font-family:Menlo,'DejaVu Sans Mono',consolas,'Courier New',monospace\">Input: My favourite memories is when we took a family vacation\n",
       "</pre>\n"
      ],
      "text/plain": [
       "Input: My favourite memories is when we took a family vacation\n"
      ]
     },
     "metadata": {},
     "output_type": "display_data"
    },
    {
     "data": {
      "text/html": [
       "<pre style=\"white-space:pre;overflow-x:auto;line-height:normal;font-family:Menlo,'DejaVu Sans Mono',consolas,'Courier New',monospace\"><span style=\"font-weight: bold\">{</span><span style=\"color: #008000; text-decoration-color: #008000\">'assitant_reply'</span>: <span style=\"font-weight: bold\">[{</span><span style=\"color: #008000; text-decoration-color: #008000\">'corrected_english'</span>: <span style=\"color: #008000; text-decoration-color: #008000\">'Family vacations are indeed special, Joe! They provide a great </span>\n",
       "<span style=\"color: #008000; text-decoration-color: #008000\">opportunity for everyone to relax, enjoy, and create wonderful memories together. Can you share more about this </span>\n",
       "<span style=\"color: #008000; text-decoration-color: #008000\">vacation? Where did you go and what were some of the highlights?'</span>, <span style=\"color: #008000; text-decoration-color: #008000\">'corrected_native'</span>: <span style=\"color: #008000; text-decoration-color: #008000\">'가족 휴가는 정말 특별한 </span>\n",
       "<span style=\"color: #008000; text-decoration-color: #008000\">것이죠, Joe! 그들은 모두가 편안하게 즐기고, 함께 멋진 추억을 만드는 좋은 기회를 제공합니다. 이 휴가에 대해 더 많이 </span>\n",
       "<span style=\"color: #008000; text-decoration-color: #008000\">공유할 수 있나요? 어디로 가셨고, 하이라이트는 무엇이었나요?'</span>, <span style=\"color: #008000; text-decoration-color: #008000\">'model_english_reply'</span>: <span style=\"color: #008000; text-decoration-color: #008000\">'Family vacations are indeed </span>\n",
       "<span style=\"color: #008000; text-decoration-color: #008000\">special, Joe! They provide a great opportunity for everyone to relax, enjoy, and create wonderful memories </span>\n",
       "<span style=\"color: #008000; text-decoration-color: #008000\">together. Can you share more about this vacation? Where did you go and what were some of the highlights?'</span>, \n",
       "<span style=\"color: #008000; text-decoration-color: #008000\">'model_native_reply'</span>: <span style=\"color: #008000; text-decoration-color: #008000\">'가족 휴가는 정말 특별한 것이죠, Joe! 그들은 모두가 편안하게 즐기고, 함께 멋진 추억을 만드는 </span>\n",
       "<span style=\"color: #008000; text-decoration-color: #008000\">좋은 기회를 제공합니다. 이 휴가에 대해 더 많이 공유할 수 있나요? 어디로 가셨고, 하이라이트는 무엇이었나요?'</span><span style=\"font-weight: bold\">}]}</span>\n",
       "\n",
       "</pre>\n"
      ],
      "text/plain": [
       "\u001b[1m{\u001b[0m\u001b[32m'assitant_reply'\u001b[0m: \u001b[1m[\u001b[0m\u001b[1m{\u001b[0m\u001b[32m'corrected_english'\u001b[0m: \u001b[32m'Family vacations are indeed special, Joe! They provide a great \u001b[0m\n",
       "\u001b[32mopportunity for everyone to relax, enjoy, and create wonderful memories together. Can you share more about this \u001b[0m\n",
       "\u001b[32mvacation? Where did you go and what were some of the highlights?'\u001b[0m, \u001b[32m'corrected_native'\u001b[0m: \u001b[32m'가족 휴가는 정말 특별한 \u001b[0m\n",
       "\u001b[32m것이죠, Joe! 그들은 모두가 편안하게 즐기고, 함께 멋진 추억을 만드는 좋은 기회를 제공합니다. 이 휴가에 대해 더 많이 \u001b[0m\n",
       "\u001b[32m공유할 수 있나요? 어디로 가셨고, 하이라이트는 무엇이었나요?'\u001b[0m, \u001b[32m'model_english_reply'\u001b[0m: \u001b[32m'Family vacations are indeed \u001b[0m\n",
       "\u001b[32mspecial, Joe! They provide a great opportunity for everyone to relax, enjoy, and create wonderful memories \u001b[0m\n",
       "\u001b[32mtogether. Can you share more about this vacation? Where did you go and what were some of the highlights?'\u001b[0m, \n",
       "\u001b[32m'model_native_reply'\u001b[0m: \u001b[32m'가족 휴가는 정말 특별한 것이죠, Joe! 그들은 모두가 편안하게 즐기고, 함께 멋진 추억을 만드는 \u001b[0m\n",
       "\u001b[32m좋은 기회를 제공합니다. 이 휴가에 대해 더 많이 공유할 수 있나요? 어디로 가셨고, 하이라이트는 무엇이었나요?'\u001b[0m\u001b[1m}\u001b[0m\u001b[1m]\u001b[0m\u001b[1m}\u001b[0m\n",
       "\n"
      ]
     },
     "metadata": {},
     "output_type": "display_data"
    },
    {
     "data": {
      "text/html": [
       "<pre style=\"white-space:pre;overflow-x:auto;line-height:normal;font-family:Menlo,'DejaVu Sans Mono',consolas,'Courier New',monospace\">Input: We took a vacation to one of the province in my country\n",
       "</pre>\n"
      ],
      "text/plain": [
       "Input: We took a vacation to one of the province in my country\n"
      ]
     },
     "metadata": {},
     "output_type": "display_data"
    },
    {
     "data": {
      "text/html": [
       "<pre style=\"white-space:pre;overflow-x:auto;line-height:normal;font-family:Menlo,'DejaVu Sans Mono',consolas,'Courier New',monospace\"><span style=\"font-weight: bold\">{</span><span style=\"color: #008000; text-decoration-color: #008000\">'assitant_reply'</span>: <span style=\"font-weight: bold\">[{</span><span style=\"color: #008000; text-decoration-color: #008000\">'corrected_english'</span>: <span style=\"color: #008000; text-decoration-color: #008000\">'That sounds like a wonderful experience, Joe! Exploring different </span>\n",
       "<span style=\"color: #008000; text-decoration-color: #008000\">provinces in your own country can be just as exciting as traveling abroad. It gives you a chance to understand your</span>\n",
       "<span style=\"color: #008000; text-decoration-color: #008000\">own culture and history better. What were some of the things you enjoyed most about this province?'</span>, \n",
       "<span style=\"color: #008000; text-decoration-color: #008000\">'corrected_native'</span>: <span style=\"color: #008000; text-decoration-color: #008000\">'그것은 멋진 경험처럼 들리네요, Joe! 자신의 나라의 다른 지방을 탐험하는 것은 해외 여행만큼이나 </span>\n",
       "<span style=\"color: #008000; text-decoration-color: #008000\">흥미롭습니다. 이는 자신의 문화와 역사를 더 잘 이해하는 기회를 제공합니다. 이 지방에서 가장 즐겼던 것들은 </span>\n",
       "<span style=\"color: #008000; text-decoration-color: #008000\">무엇이었나요?'</span>, <span style=\"color: #008000; text-decoration-color: #008000\">'model_english_reply'</span>: <span style=\"color: #008000; text-decoration-color: #008000\">'That sounds like a wonderful experience, Joe! Exploring different provinces</span>\n",
       "<span style=\"color: #008000; text-decoration-color: #008000\">in your own country can be just as exciting as traveling abroad. It gives you a chance to understand your own </span>\n",
       "<span style=\"color: #008000; text-decoration-color: #008000\">culture and history better. What were some of the things you enjoyed most about this province?'</span>, \n",
       "<span style=\"color: #008000; text-decoration-color: #008000\">'model_native_reply'</span>: <span style=\"color: #008000; text-decoration-color: #008000\">'그것은 멋진 경험처럼 들리네요, Joe! 자신의 나라의 다른 지방을 탐험하는 것은 해외 </span>\n",
       "<span style=\"color: #008000; text-decoration-color: #008000\">여행만큼이나 흥미롭습니다. 이는 자신의 문화와 역사를 더 잘 이해하는 기회를 제공합니다. 이 지방에서 가장 즐겼던 </span>\n",
       "<span style=\"color: #008000; text-decoration-color: #008000\">것들은 무엇이었나요?'</span><span style=\"font-weight: bold\">}]}</span>\n",
       "\n",
       "</pre>\n"
      ],
      "text/plain": [
       "\u001b[1m{\u001b[0m\u001b[32m'assitant_reply'\u001b[0m: \u001b[1m[\u001b[0m\u001b[1m{\u001b[0m\u001b[32m'corrected_english'\u001b[0m: \u001b[32m'That sounds like a wonderful experience, Joe! Exploring different \u001b[0m\n",
       "\u001b[32mprovinces in your own country can be just as exciting as traveling abroad. It gives you a chance to understand your\u001b[0m\n",
       "\u001b[32mown culture and history better. What were some of the things you enjoyed most about this province?'\u001b[0m, \n",
       "\u001b[32m'corrected_native'\u001b[0m: \u001b[32m'그것은 멋진 경험처럼 들리네요, Joe! 자신의 나라의 다른 지방을 탐험하는 것은 해외 여행만큼이나 \u001b[0m\n",
       "\u001b[32m흥미롭습니다. 이는 자신의 문화와 역사를 더 잘 이해하는 기회를 제공합니다. 이 지방에서 가장 즐겼던 것들은 \u001b[0m\n",
       "\u001b[32m무엇이었나요?'\u001b[0m, \u001b[32m'model_english_reply'\u001b[0m: \u001b[32m'That sounds like a wonderful experience, Joe! Exploring different provinces\u001b[0m\n",
       "\u001b[32min your own country can be just as exciting as traveling abroad. It gives you a chance to understand your own \u001b[0m\n",
       "\u001b[32mculture and history better. What were some of the things you enjoyed most about this province?'\u001b[0m, \n",
       "\u001b[32m'model_native_reply'\u001b[0m: \u001b[32m'그것은 멋진 경험처럼 들리네요, Joe! 자신의 나라의 다른 지방을 탐험하는 것은 해외 \u001b[0m\n",
       "\u001b[32m여행만큼이나 흥미롭습니다. 이는 자신의 문화와 역사를 더 잘 이해하는 기회를 제공합니다. 이 지방에서 가장 즐겼던 \u001b[0m\n",
       "\u001b[32m것들은 무엇이었나요?'\u001b[0m\u001b[1m}\u001b[0m\u001b[1m]\u001b[0m\u001b[1m}\u001b[0m\n",
       "\n"
      ]
     },
     "metadata": {},
     "output_type": "display_data"
    },
    {
     "data": {
      "text/html": [
       "<pre style=\"white-space:pre;overflow-x:auto;line-height:normal;font-family:Menlo,'DejaVu Sans Mono',consolas,'Courier New',monospace\">Input: The food is awesome\n",
       "</pre>\n"
      ],
      "text/plain": [
       "Input: The food is awesome\n"
      ]
     },
     "metadata": {},
     "output_type": "display_data"
    },
    {
     "data": {
      "text/html": [
       "<pre style=\"white-space:pre;overflow-x:auto;line-height:normal;font-family:Menlo,'DejaVu Sans Mono',consolas,'Courier New',monospace\"><span style=\"font-weight: bold\">{</span><span style=\"color: #008000; text-decoration-color: #008000\">'assitant_reply'</span>: <span style=\"font-weight: bold\">[{</span><span style=\"color: #008000; text-decoration-color: #008000\">'corrected_english'</span>: <span style=\"color: #008000; text-decoration-color: #008000\">\"Food is indeed a big part of the travel experience, Joe! Trying local </span>\n",
       "<span style=\"color: #008000; text-decoration-color: #008000\">cuisines can give us a taste of the region's culture and history. Do you have a favorite dish from that province?\"</span>,\n",
       "<span style=\"color: #008000; text-decoration-color: #008000\">'corrected_native'</span>: <span style=\"color: #008000; text-decoration-color: #008000\">'음식은 실제로 여행 경험의 큰 부분이죠, Joe! 현지 요리를 시도하면 그 지역의 문화와 역사를 맛볼 </span>\n",
       "<span style=\"color: #008000; text-decoration-color: #008000\">수 있습니다. 그 지방에서 가장 좋아하는 요리가 있나요?'</span>, <span style=\"color: #008000; text-decoration-color: #008000\">'model_english_reply'</span>: <span style=\"color: #008000; text-decoration-color: #008000\">\"Food is indeed a big part of the </span>\n",
       "<span style=\"color: #008000; text-decoration-color: #008000\">travel experience, Joe! Trying local cuisines can give us a taste of the region's culture and history. Do you have </span>\n",
       "<span style=\"color: #008000; text-decoration-color: #008000\">a favorite dish from that province?\"</span>, <span style=\"color: #008000; text-decoration-color: #008000\">'model_native_reply'</span>: <span style=\"color: #008000; text-decoration-color: #008000\">'음식은 실제로 여행 경험의 큰 부분이죠, Joe! 현지 </span>\n",
       "<span style=\"color: #008000; text-decoration-color: #008000\">요리를 시도하면 그 지역의 문화와 역사를 맛볼 수 있습니다. 그 지방에서 가장 좋아하는 요리가 있나요?'</span><span style=\"font-weight: bold\">}]}</span>\n",
       "\n",
       "</pre>\n"
      ],
      "text/plain": [
       "\u001b[1m{\u001b[0m\u001b[32m'assitant_reply'\u001b[0m: \u001b[1m[\u001b[0m\u001b[1m{\u001b[0m\u001b[32m'corrected_english'\u001b[0m: \u001b[32m\"Food is indeed a big part of the travel experience, Joe! Trying local \u001b[0m\n",
       "\u001b[32mcuisines can give us a taste of the region's culture and history. Do you have a favorite dish from that province?\"\u001b[0m,\n",
       "\u001b[32m'corrected_native'\u001b[0m: \u001b[32m'음식은 실제로 여행 경험의 큰 부분이죠, Joe! 현지 요리를 시도하면 그 지역의 문화와 역사를 맛볼 \u001b[0m\n",
       "\u001b[32m수 있습니다. 그 지방에서 가장 좋아하는 요리가 있나요?'\u001b[0m, \u001b[32m'model_english_reply'\u001b[0m: \u001b[32m\"Food is indeed a big part of the \u001b[0m\n",
       "\u001b[32mtravel experience, Joe! Trying local cuisines can give us a taste of the region's culture and history. Do you have \u001b[0m\n",
       "\u001b[32ma favorite dish from that province?\"\u001b[0m, \u001b[32m'model_native_reply'\u001b[0m: \u001b[32m'음식은 실제로 여행 경험의 큰 부분이죠, Joe! 현지 \u001b[0m\n",
       "\u001b[32m요리를 시도하면 그 지역의 문화와 역사를 맛볼 수 있습니다. 그 지방에서 가장 좋아하는 요리가 있나요?'\u001b[0m\u001b[1m}\u001b[0m\u001b[1m]\u001b[0m\u001b[1m}\u001b[0m\n",
       "\n"
      ]
     },
     "metadata": {},
     "output_type": "display_data"
    }
   ],
   "source": [
    "for i in range(6):\n",
    "    user_input = input('Prompt:')\n",
    "    print(f'Input: {user_input}')\n",
    "    response=chatbot(user_input)\n",
    "    message_objects.append({\"role\":\"assistant\",\"content\":str(response)})\n",
    "    print(f\"{message_objects[int(len(message_objects)-1)]['content']}\\n\")"
   ]
  },
  {
   "cell_type": "code",
   "execution_count": 10,
   "metadata": {},
   "outputs": [
    {
     "data": {
      "text/html": [
       "<pre style=\"white-space:pre;overflow-x:auto;line-height:normal;font-family:Menlo,'DejaVu Sans Mono',consolas,'Courier New',monospace\">Input: Here's a brief background about me:  ```My name is Joe. I am <span style=\"color: #008080; text-decoration-color: #008080; font-weight: bold\">23</span> years old.  My ethnicity is Asian and my \n",
       "native language is Russian.  I work as a Software Engineer. One of my interests is Science.   Remember my knowledge\n",
       "in English is in the Beginner level.  Start by introducing yourself to me and I would like to talk about \n",
       "Science.```\n",
       "</pre>\n"
      ],
      "text/plain": [
       "Input: Here's a brief background about me:  ```My name is Joe. I am \u001b[1;36m23\u001b[0m years old.  My ethnicity is Asian and my \n",
       "native language is Russian.  I work as a Software Engineer. One of my interests is Science.   Remember my knowledge\n",
       "in English is in the Beginner level.  Start by introducing yourself to me and I would like to talk about \n",
       "Science.```\n"
      ]
     },
     "metadata": {},
     "output_type": "display_data"
    },
    {
     "data": {
      "text/html": [
       "<pre style=\"white-space:pre;overflow-x:auto;line-height:normal;font-family:Menlo,'DejaVu Sans Mono',consolas,'Courier New',monospace\"><span style=\"font-weight: bold\">{</span><span style=\"color: #008000; text-decoration-color: #008000\">'assitant_reply'</span>: <span style=\"font-weight: bold\">[{</span><span style=\"color: #008000; text-decoration-color: #008000\">'corrected_english'</span>: <span style=\"color: #008000; text-decoration-color: #008000\">\"Hello Joe! It's nice to meet you. I'm an AI assistant, and I'm here to </span>\n",
       "<span style=\"color: #008000; text-decoration-color: #008000\">help you with your English and discuss various topics with you. I understand that you're interested in Science. </span>\n",
       "<span style=\"color: #008000; text-decoration-color: #008000\">That's a fascinating subject! What particular area of Science are you interested in?\"</span>, <span style=\"color: #008000; text-decoration-color: #008000\">'corrected_native'</span>: <span style=\"color: #008000; text-decoration-color: #008000\">'Привет,</span>\n",
       "<span style=\"color: #008000; text-decoration-color: #008000\">Джо! Приятно познакомиться. Я - AI-ассистент, и я здесь, чтобы помочь вам с английским языком и обсудить с вами </span>\n",
       "<span style=\"color: #008000; text-decoration-color: #008000\">различные темы. Я понимаю, что вы интересуетесь наукой. Это увлекательная тема! Какая конкретная область науки вас </span>\n",
       "<span style=\"color: #008000; text-decoration-color: #008000\">интересует?'</span>, <span style=\"color: #008000; text-decoration-color: #008000\">'model_english_reply'</span>: <span style=\"color: #008000; text-decoration-color: #008000\">\"Hello Joe! It's nice to meet you. I'm an AI assistant, and I'm here to help </span>\n",
       "<span style=\"color: #008000; text-decoration-color: #008000\">you with your English and discuss various topics with you. I understand that you're interested in Science. That's a</span>\n",
       "<span style=\"color: #008000; text-decoration-color: #008000\">fascinating subject! What particular area of Science are you interested in?\"</span>, <span style=\"color: #008000; text-decoration-color: #008000\">'model_native_reply'</span>: <span style=\"color: #008000; text-decoration-color: #008000\">'Привет, Джо! </span>\n",
       "<span style=\"color: #008000; text-decoration-color: #008000\">Приятно познакомиться. Я - AI-ассистент, и я здесь, чтобы помочь вам с английским языком и обсудить с вами </span>\n",
       "<span style=\"color: #008000; text-decoration-color: #008000\">различные темы. Я понимаю, что вы интересуетесь наукой. Это увлекательная тема! Какая конкретная область науки вас </span>\n",
       "<span style=\"color: #008000; text-decoration-color: #008000\">интересует?'</span><span style=\"font-weight: bold\">}]}</span>\n",
       "\n",
       "</pre>\n"
      ],
      "text/plain": [
       "\u001b[1m{\u001b[0m\u001b[32m'assitant_reply'\u001b[0m: \u001b[1m[\u001b[0m\u001b[1m{\u001b[0m\u001b[32m'corrected_english'\u001b[0m: \u001b[32m\"Hello Joe! It's nice to meet you. I'm an AI assistant, and I'm here to \u001b[0m\n",
       "\u001b[32mhelp you with your English and discuss various topics with you. I understand that you're interested in Science. \u001b[0m\n",
       "\u001b[32mThat's a fascinating subject! What particular area of Science are you interested in?\"\u001b[0m, \u001b[32m'corrected_native'\u001b[0m: \u001b[32m'Привет,\u001b[0m\n",
       "\u001b[32mДжо! Приятно познакомиться. Я - AI-ассистент, и я здесь, чтобы помочь вам с английским языком и обсудить с вами \u001b[0m\n",
       "\u001b[32mразличные темы. Я понимаю, что вы интересуетесь наукой. Это увлекательная тема! Какая конкретная область науки вас \u001b[0m\n",
       "\u001b[32mинтересует?'\u001b[0m, \u001b[32m'model_english_reply'\u001b[0m: \u001b[32m\"Hello Joe! It's nice to meet you. I'm an AI assistant, and I'm here to help \u001b[0m\n",
       "\u001b[32myou with your English and discuss various topics with you. I understand that you're interested in Science. That's a\u001b[0m\n",
       "\u001b[32mfascinating subject! What particular area of Science are you interested in?\"\u001b[0m, \u001b[32m'model_native_reply'\u001b[0m: \u001b[32m'Привет, Джо! \u001b[0m\n",
       "\u001b[32mПриятно познакомиться. Я - AI-ассистент, и я здесь, чтобы помочь вам с английским языком и обсудить с вами \u001b[0m\n",
       "\u001b[32mразличные темы. Я понимаю, что вы интересуетесь наукой. Это увлекательная тема! Какая конкретная область науки вас \u001b[0m\n",
       "\u001b[32mинтересует?'\u001b[0m\u001b[1m}\u001b[0m\u001b[1m]\u001b[0m\u001b[1m}\u001b[0m\n",
       "\n"
      ]
     },
     "metadata": {},
     "output_type": "display_data"
    },
    {
     "data": {
      "text/html": [
       "<pre style=\"white-space:pre;overflow-x:auto;line-height:normal;font-family:Menlo,'DejaVu Sans Mono',consolas,'Courier New',monospace\">Input: I am interested physics\n",
       "</pre>\n"
      ],
      "text/plain": [
       "Input: I am interested physics\n"
      ]
     },
     "metadata": {},
     "output_type": "display_data"
    },
    {
     "data": {
      "text/html": [
       "<pre style=\"white-space:pre;overflow-x:auto;line-height:normal;font-family:Menlo,'DejaVu Sans Mono',consolas,'Courier New',monospace\"><span style=\"font-weight: bold\">{</span><span style=\"color: #008000; text-decoration-color: #008000\">'assitant_reply'</span>: <span style=\"font-weight: bold\">[{</span><span style=\"color: #008000; text-decoration-color: #008000\">'corrected_english'</span>: <span style=\"color: #008000; text-decoration-color: #008000\">\"That's great, Joe! Physics is a fundamental science that helps us </span>\n",
       "<span style=\"color: #008000; text-decoration-color: #008000\">understand how the universe behaves. It's a broad field with many sub-disciplines. Is there a specific area in </span>\n",
       "<span style=\"color: #008000; text-decoration-color: #008000\">physics that you're particularly interested in?\"</span>, <span style=\"color: #008000; text-decoration-color: #008000\">'corrected_native'</span>: <span style=\"color: #008000; text-decoration-color: #008000\">'Это здорово, Джо! Физика - это </span>\n",
       "<span style=\"color: #008000; text-decoration-color: #008000\">фундаментальная наука, которая помогает нам понять, как ведет себя вселенная. Это широкая область с множеством </span>\n",
       "<span style=\"color: #008000; text-decoration-color: #008000\">поддисциплин. Есть ли конкретная область в физике, которая вас особенно интересует?'</span>, <span style=\"color: #008000; text-decoration-color: #008000\">'model_english_reply'</span>: \n",
       "<span style=\"color: #008000; text-decoration-color: #008000\">\"That's great, Joe! Physics is a fundamental science that helps us understand how the universe behaves. It's a </span>\n",
       "<span style=\"color: #008000; text-decoration-color: #008000\">broad field with many sub-disciplines. Is there a specific area in physics that you're particularly interested </span>\n",
       "<span style=\"color: #008000; text-decoration-color: #008000\">in?\"</span>, <span style=\"color: #008000; text-decoration-color: #008000\">'model_native_reply'</span>: <span style=\"color: #008000; text-decoration-color: #008000\">'Это здорово, Джо! Физика - это фундаментальная наука, которая помогает нам понять, как</span>\n",
       "<span style=\"color: #008000; text-decoration-color: #008000\">ведет себя вселенная. Это широкая область с множеством поддисциплин. Есть ли конкретная область в физике, которая </span>\n",
       "<span style=\"color: #008000; text-decoration-color: #008000\">вас особенно интересует?'</span><span style=\"font-weight: bold\">}]}</span>\n",
       "\n",
       "</pre>\n"
      ],
      "text/plain": [
       "\u001b[1m{\u001b[0m\u001b[32m'assitant_reply'\u001b[0m: \u001b[1m[\u001b[0m\u001b[1m{\u001b[0m\u001b[32m'corrected_english'\u001b[0m: \u001b[32m\"That's great, Joe! Physics is a fundamental science that helps us \u001b[0m\n",
       "\u001b[32munderstand how the universe behaves. It's a broad field with many sub-disciplines. Is there a specific area in \u001b[0m\n",
       "\u001b[32mphysics that you're particularly interested in?\"\u001b[0m, \u001b[32m'corrected_native'\u001b[0m: \u001b[32m'Это здорово, Джо! Физика - это \u001b[0m\n",
       "\u001b[32mфундаментальная наука, которая помогает нам понять, как ведет себя вселенная. Это широкая область с множеством \u001b[0m\n",
       "\u001b[32mподдисциплин. Есть ли конкретная область в физике, которая вас особенно интересует?'\u001b[0m, \u001b[32m'model_english_reply'\u001b[0m: \n",
       "\u001b[32m\"That's great, Joe! Physics is a fundamental science that helps us understand how the universe behaves. It's a \u001b[0m\n",
       "\u001b[32mbroad field with many sub-disciplines. Is there a specific area in physics that you're particularly interested \u001b[0m\n",
       "\u001b[32min?\"\u001b[0m, \u001b[32m'model_native_reply'\u001b[0m: \u001b[32m'Это здорово, Джо! Физика - это фундаментальная наука, которая помогает нам понять, как\u001b[0m\n",
       "\u001b[32mведет себя вселенная. Это широкая область с множеством поддисциплин. Есть ли конкретная область в физике, которая \u001b[0m\n",
       "\u001b[32mвас особенно интересует?'\u001b[0m\u001b[1m}\u001b[0m\u001b[1m]\u001b[0m\u001b[1m}\u001b[0m\n",
       "\n"
      ]
     },
     "metadata": {},
     "output_type": "display_data"
    },
    {
     "data": {
      "text/html": [
       "<pre style=\"white-space:pre;overflow-x:auto;line-height:normal;font-family:Menlo,'DejaVu Sans Mono',consolas,'Courier New',monospace\">Input: I am thinking about how space working\n",
       "</pre>\n"
      ],
      "text/plain": [
       "Input: I am thinking about how space working\n"
      ]
     },
     "metadata": {},
     "output_type": "display_data"
    },
    {
     "data": {
      "text/html": [
       "<pre style=\"white-space:pre;overflow-x:auto;line-height:normal;font-family:Menlo,'DejaVu Sans Mono',consolas,'Courier New',monospace\"><span style=\"font-weight: bold\">{</span><span style=\"color: #008000; text-decoration-color: #008000\">'assitant_reply'</span>: <span style=\"font-weight: bold\">[{</span><span style=\"color: #008000; text-decoration-color: #008000\">'corrected_english'</span>: <span style=\"color: #008000; text-decoration-color: #008000\">\"It sounds like you're interested in astrophysics! This is a branch of </span>\n",
       "<span style=\"color: #008000; text-decoration-color: #008000\">physics that studies the universe and its laws. It covers everything from galaxies and stars to planets and black </span>\n",
       "<span style=\"color: #008000; text-decoration-color: #008000\">holes. Is there a specific question or topic about space that you'd like to explore?\"</span>, <span style=\"color: #008000; text-decoration-color: #008000\">'corrected_native'</span>: <span style=\"color: #008000; text-decoration-color: #008000\">'Похоже,</span>\n",
       "<span style=\"color: #008000; text-decoration-color: #008000\">вы интересуетесь астрофизикой! Это ветвь физики, которая изучает вселенную и ее законы. Она охватывает все, от </span>\n",
       "<span style=\"color: #008000; text-decoration-color: #008000\">галактик и звезд до планет и черных дыр. Есть ли конкретный вопрос или тема о космосе, которую вы хотели бы </span>\n",
       "<span style=\"color: #008000; text-decoration-color: #008000\">исследовать?'</span>, <span style=\"color: #008000; text-decoration-color: #008000\">'model_english_reply'</span>: <span style=\"color: #008000; text-decoration-color: #008000\">\"It sounds like you're interested in astrophysics! This is a branch of </span>\n",
       "<span style=\"color: #008000; text-decoration-color: #008000\">physics that studies the universe and its laws. It covers everything from galaxies and stars to planets and black </span>\n",
       "<span style=\"color: #008000; text-decoration-color: #008000\">holes. Is there a specific question or topic about space that you'd like to explore?\"</span>, <span style=\"color: #008000; text-decoration-color: #008000\">'model_native_reply'</span>: \n",
       "<span style=\"color: #008000; text-decoration-color: #008000\">'Похоже, вы интересуетесь астрофизикой! Это ветвь физики, которая изучает вселенную и ее законы. Она охватывает </span>\n",
       "<span style=\"color: #008000; text-decoration-color: #008000\">все, от галактик и звезд до планет и черных дыр. Есть ли конкретный вопрос или тема о космосе, которую вы хотели бы</span>\n",
       "<span style=\"color: #008000; text-decoration-color: #008000\">исследовать?'</span><span style=\"font-weight: bold\">}]}</span>\n",
       "\n",
       "</pre>\n"
      ],
      "text/plain": [
       "\u001b[1m{\u001b[0m\u001b[32m'assitant_reply'\u001b[0m: \u001b[1m[\u001b[0m\u001b[1m{\u001b[0m\u001b[32m'corrected_english'\u001b[0m: \u001b[32m\"It sounds like you're interested in astrophysics! This is a branch of \u001b[0m\n",
       "\u001b[32mphysics that studies the universe and its laws. It covers everything from galaxies and stars to planets and black \u001b[0m\n",
       "\u001b[32mholes. Is there a specific question or topic about space that you'd like to explore?\"\u001b[0m, \u001b[32m'corrected_native'\u001b[0m: \u001b[32m'Похоже,\u001b[0m\n",
       "\u001b[32mвы интересуетесь астрофизикой! Это ветвь физики, которая изучает вселенную и ее законы. Она охватывает все, от \u001b[0m\n",
       "\u001b[32mгалактик и звезд до планет и черных дыр. Есть ли конкретный вопрос или тема о космосе, которую вы хотели бы \u001b[0m\n",
       "\u001b[32mисследовать?'\u001b[0m, \u001b[32m'model_english_reply'\u001b[0m: \u001b[32m\"It sounds like you're interested in astrophysics! This is a branch of \u001b[0m\n",
       "\u001b[32mphysics that studies the universe and its laws. It covers everything from galaxies and stars to planets and black \u001b[0m\n",
       "\u001b[32mholes. Is there a specific question or topic about space that you'd like to explore?\"\u001b[0m, \u001b[32m'model_native_reply'\u001b[0m: \n",
       "\u001b[32m'Похоже, вы интересуетесь астрофизикой! Это ветвь физики, которая изучает вселенную и ее законы. Она охватывает \u001b[0m\n",
       "\u001b[32mвсе, от галактик и звезд до планет и черных дыр. Есть ли конкретный вопрос или тема о космосе, которую вы хотели бы\u001b[0m\n",
       "\u001b[32mисследовать?'\u001b[0m\u001b[1m}\u001b[0m\u001b[1m]\u001b[0m\u001b[1m}\u001b[0m\n",
       "\n"
      ]
     },
     "metadata": {},
     "output_type": "display_data"
    },
    {
     "data": {
      "text/html": [
       "<pre style=\"white-space:pre;overflow-x:auto;line-height:normal;font-family:Menlo,'DejaVu Sans Mono',consolas,'Courier New',monospace\">Input: Can you tell me <span style=\"color: #008080; text-decoration-color: #008080; font-weight: bold\">3</span> interest fact about space \n",
       "</pre>\n"
      ],
      "text/plain": [
       "Input: Can you tell me \u001b[1;36m3\u001b[0m interest fact about space \n"
      ]
     },
     "metadata": {},
     "output_type": "display_data"
    },
    {
     "data": {
      "text/html": [
       "<pre style=\"white-space:pre;overflow-x:auto;line-height:normal;font-family:Menlo,'DejaVu Sans Mono',consolas,'Courier New',monospace\"><span style=\"font-weight: bold\">{</span><span style=\"color: #008000; text-decoration-color: #008000\">'assitant_reply'</span>: <span style=\"font-weight: bold\">[{</span><span style=\"color: #008000; text-decoration-color: #008000\">'corrected_english'</span>: <span style=\"color: #008000; text-decoration-color: #008000\">\"Absolutely, Joe! Here are three interesting facts about space: \\n\\n1. </span>\n",
       "<span style=\"color: #008000; text-decoration-color: #008000\">Space is completely silent. There is no atmosphere in space, which means that sound has no medium or way to travel </span>\n",
       "<span style=\"color: #008000; text-decoration-color: #008000\">to be heard. Astronauts use radios to stay in communication while in space, since radio waves can still be sent and</span>\n",
       "<span style=\"color: #008000; text-decoration-color: #008000\">received.\\n\\n2. The hottest planet in our solar system is Venus. Most people often think that this would be </span>\n",
       "<span style=\"color: #008000; text-decoration-color: #008000\">Mercury, as it's the closest planet to the sun. However, Venus has a lot of gases in its atmosphere, which causes a</span>\n",
       "<span style=\"color: #008000; text-decoration-color: #008000\">'greenhouse effect' that traps heat and makes it the hottest planet.\\n\\n3. There is floating water in space. </span>\n",
       "<span style=\"color: #008000; text-decoration-color: #008000\">Astronomers have found a massive water vapor cloud which holds 140 trillion times the mass of water in the Earth's </span>\n",
       "<span style=\"color: #008000; text-decoration-color: #008000\">oceans somewhere in space.\"</span>, <span style=\"color: #008000; text-decoration-color: #008000\">'corrected_native'</span>: <span style=\"color: #008000; text-decoration-color: #008000\">\"Безусловно, Джо! Вот три интересных факта о космосе: \\n\\n1. В </span>\n",
       "<span style=\"color: #008000; text-decoration-color: #008000\">космосе полная тишина. В космосе нет атмосферы, что означает, что звуку нет среды или способа распространения, </span>\n",
       "<span style=\"color: #008000; text-decoration-color: #008000\">чтобы его можно было услышать. Астронавты используют радио для общения в космосе, поскольку радиоволны все еще </span>\n",
       "<span style=\"color: #008000; text-decoration-color: #008000\">могут быть отправлены и получены.\\n\\n2. Самая горячая планета в нашей солнечной системе - Венера. Большинство людей</span>\n",
       "<span style=\"color: #008000; text-decoration-color: #008000\">часто думают, что это будет Меркурий, так как он ближайшая планета к солнцу. Однако у Венеры в атмосфере много </span>\n",
       "<span style=\"color: #008000; text-decoration-color: #008000\">газов, что вызывает 'парниковый эффект', который удерживает тепло и делает ее самой горячей планетой.\\n\\n3. В </span>\n",
       "<span style=\"color: #008000; text-decoration-color: #008000\">космосе плавает вода. Астрономы обнаружили огромное облако водяного пара, которое содержит в 140 триллионов раз </span>\n",
       "<span style=\"color: #008000; text-decoration-color: #008000\">больше массы воды, чем в океанах Земли, где-то в космосе.\"</span>, <span style=\"color: #008000; text-decoration-color: #008000\">'model_english_reply'</span>: <span style=\"color: #008000; text-decoration-color: #008000\">\"Absolutely, Joe! Here are three</span>\n",
       "<span style=\"color: #008000; text-decoration-color: #008000\">interesting facts about space: \\n\\n1. Space is completely silent. There is no atmosphere in space, which means that</span>\n",
       "<span style=\"color: #008000; text-decoration-color: #008000\">sound has no medium or way to travel to be heard. Astronauts use radios to stay in communication while in space, </span>\n",
       "<span style=\"color: #008000; text-decoration-color: #008000\">since radio waves can still be sent and received.\\n\\n2. The hottest planet in our solar system is Venus. Most </span>\n",
       "<span style=\"color: #008000; text-decoration-color: #008000\">people often think that this would be Mercury, as it's the closest planet to the sun. However, Venus has a lot of </span>\n",
       "<span style=\"color: #008000; text-decoration-color: #008000\">gases in its atmosphere, which causes a 'greenhouse effect' that traps heat and makes it the hottest planet.\\n\\n3. </span>\n",
       "<span style=\"color: #008000; text-decoration-color: #008000\">There is floating water in space. Astronomers have found a massive water vapor cloud which holds 140 trillion times</span>\n",
       "<span style=\"color: #008000; text-decoration-color: #008000\">the mass of water in the Earth's oceans somewhere in space.\"</span>, <span style=\"color: #008000; text-decoration-color: #008000\">'model_native_reply'</span>: <span style=\"color: #008000; text-decoration-color: #008000\">\"Безусловно, Джо! Вот три </span>\n",
       "<span style=\"color: #008000; text-decoration-color: #008000\">интересных факта о космосе: \\n\\n1. В космосе полная тишина. В космосе нет атмосферы, что означает, что звуку нет </span>\n",
       "<span style=\"color: #008000; text-decoration-color: #008000\">среды или способа распространения, чтобы его можно было услышать. Астронавты используют радио для общения в </span>\n",
       "<span style=\"color: #008000; text-decoration-color: #008000\">космосе, поскольку радиоволны все еще могут быть отправлены и получены.\\n\\n2. Самая горячая планета в нашей </span>\n",
       "<span style=\"color: #008000; text-decoration-color: #008000\">солнечной системе - Венера. Большинство людей часто думают, что это будет Меркурий, так как он ближайшая планета к </span>\n",
       "<span style=\"color: #008000; text-decoration-color: #008000\">солнцу. Однако у Венеры в атмосфере много газов, что вызывает 'парниковый эффект', который удерживает тепло и </span>\n",
       "<span style=\"color: #008000; text-decoration-color: #008000\">делает ее самой горячей планетой.\\n\\n3. В космосе плавает вода. Астрономы обнаружили огромное облако водяного пара,</span>\n",
       "<span style=\"color: #008000; text-decoration-color: #008000\">которое содержит в 140 триллионов раз больше массы воды, чем в океанах Земли, где-то в космосе.\"</span><span style=\"font-weight: bold\">}]}</span>\n",
       "\n",
       "</pre>\n"
      ],
      "text/plain": [
       "\u001b[1m{\u001b[0m\u001b[32m'assitant_reply'\u001b[0m: \u001b[1m[\u001b[0m\u001b[1m{\u001b[0m\u001b[32m'corrected_english'\u001b[0m: \u001b[32m\"Absolutely, Joe! Here are three interesting facts about space: \\n\\n1. \u001b[0m\n",
       "\u001b[32mSpace is completely silent. There is no atmosphere in space, which means that sound has no medium or way to travel \u001b[0m\n",
       "\u001b[32mto be heard. Astronauts use radios to stay in communication while in space, since radio waves can still be sent and\u001b[0m\n",
       "\u001b[32mreceived.\\n\\n2. The hottest planet in our solar system is Venus. Most people often think that this would be \u001b[0m\n",
       "\u001b[32mMercury, as it's the closest planet to the sun. However, Venus has a lot of gases in its atmosphere, which causes a\u001b[0m\n",
       "\u001b[32m'greenhouse effect' that traps heat and makes it the hottest planet.\\n\\n3. There is floating water in space. \u001b[0m\n",
       "\u001b[32mAstronomers have found a massive water vapor cloud which holds 140 trillion times the mass of water in the Earth's \u001b[0m\n",
       "\u001b[32moceans somewhere in space.\"\u001b[0m, \u001b[32m'corrected_native'\u001b[0m: \u001b[32m\"Безусловно, Джо! Вот три интересных факта о космосе: \\n\\n1. В \u001b[0m\n",
       "\u001b[32mкосмосе полная тишина. В космосе нет атмосферы, что означает, что звуку нет среды или способа распространения, \u001b[0m\n",
       "\u001b[32mчтобы его можно было услышать. Астронавты используют радио для общения в космосе, поскольку радиоволны все еще \u001b[0m\n",
       "\u001b[32mмогут быть отправлены и получены.\\n\\n2. Самая горячая планета в нашей солнечной системе - Венера. Большинство людей\u001b[0m\n",
       "\u001b[32mчасто думают, что это будет Меркурий, так как он ближайшая планета к солнцу. Однако у Венеры в атмосфере много \u001b[0m\n",
       "\u001b[32mгазов, что вызывает 'парниковый эффект', который удерживает тепло и делает ее самой горячей планетой.\\n\\n3. В \u001b[0m\n",
       "\u001b[32mкосмосе плавает вода. Астрономы обнаружили огромное облако водяного пара, которое содержит в 140 триллионов раз \u001b[0m\n",
       "\u001b[32mбольше массы воды, чем в океанах Земли, где-то в космосе.\"\u001b[0m, \u001b[32m'model_english_reply'\u001b[0m: \u001b[32m\"Absolutely, Joe! Here are three\u001b[0m\n",
       "\u001b[32minteresting facts about space: \\n\\n1. Space is completely silent. There is no atmosphere in space, which means that\u001b[0m\n",
       "\u001b[32msound has no medium or way to travel to be heard. Astronauts use radios to stay in communication while in space, \u001b[0m\n",
       "\u001b[32msince radio waves can still be sent and received.\\n\\n2. The hottest planet in our solar system is Venus. Most \u001b[0m\n",
       "\u001b[32mpeople often think that this would be Mercury, as it's the closest planet to the sun. However, Venus has a lot of \u001b[0m\n",
       "\u001b[32mgases in its atmosphere, which causes a 'greenhouse effect' that traps heat and makes it the hottest planet.\\n\\n3. \u001b[0m\n",
       "\u001b[32mThere is floating water in space. Astronomers have found a massive water vapor cloud which holds 140 trillion times\u001b[0m\n",
       "\u001b[32mthe mass of water in the Earth's oceans somewhere in space.\"\u001b[0m, \u001b[32m'model_native_reply'\u001b[0m: \u001b[32m\"Безусловно, Джо! Вот три \u001b[0m\n",
       "\u001b[32mинтересных факта о космосе: \\n\\n1. В космосе полная тишина. В космосе нет атмосферы, что означает, что звуку нет \u001b[0m\n",
       "\u001b[32mсреды или способа распространения, чтобы его можно было услышать. Астронавты используют радио для общения в \u001b[0m\n",
       "\u001b[32mкосмосе, поскольку радиоволны все еще могут быть отправлены и получены.\\n\\n2. Самая горячая планета в нашей \u001b[0m\n",
       "\u001b[32mсолнечной системе - Венера. Большинство людей часто думают, что это будет Меркурий, так как он ближайшая планета к \u001b[0m\n",
       "\u001b[32mсолнцу. Однако у Венеры в атмосфере много газов, что вызывает 'парниковый эффект', который удерживает тепло и \u001b[0m\n",
       "\u001b[32mделает ее самой горячей планетой.\\n\\n3. В космосе плавает вода. Астрономы обнаружили огромное облако водяного пара,\u001b[0m\n",
       "\u001b[32mкоторое содержит в 140 триллионов раз больше массы воды, чем в океанах Земли, где-то в космосе.\"\u001b[0m\u001b[1m}\u001b[0m\u001b[1m]\u001b[0m\u001b[1m}\u001b[0m\n",
       "\n"
      ]
     },
     "metadata": {},
     "output_type": "display_data"
    },
    {
     "data": {
      "text/html": [
       "<pre style=\"white-space:pre;overflow-x:auto;line-height:normal;font-family:Menlo,'DejaVu Sans Mono',consolas,'Courier New',monospace\">Input: Wow so interesting facts \n",
       "</pre>\n"
      ],
      "text/plain": [
       "Input: Wow so interesting facts \n"
      ]
     },
     "metadata": {},
     "output_type": "display_data"
    },
    {
     "data": {
      "text/html": [
       "<pre style=\"white-space:pre;overflow-x:auto;line-height:normal;font-family:Menlo,'DejaVu Sans Mono',consolas,'Courier New',monospace\"><span style=\"font-weight: bold\">{</span><span style=\"color: #008000; text-decoration-color: #008000\">'assitant_reply'</span>: <span style=\"font-weight: bold\">[{</span><span style=\"color: #008000; text-decoration-color: #008000\">'corrected_english'</span>: <span style=\"color: #008000; text-decoration-color: #008000\">\"I'm glad you found them interesting, Joe! Space is a fascinating subject</span>\n",
       "<span style=\"color: #008000; text-decoration-color: #008000\">with so much to learn about. If you have any other questions about space or anything else, feel free to ask!\"</span>, \n",
       "<span style=\"color: #008000; text-decoration-color: #008000\">'corrected_native'</span>: <span style=\"color: #008000; text-decoration-color: #008000\">'Я рад, что вы нашли их интересными, Джо! Космос - это увлекательная тема, о которой можно </span>\n",
       "<span style=\"color: #008000; text-decoration-color: #008000\">многое узнать. Если у вас есть другие вопросы о космосе или о чем-то еще, не стесняйтесь спрашивать!'</span>, \n",
       "<span style=\"color: #008000; text-decoration-color: #008000\">'model_english_reply'</span>: <span style=\"color: #008000; text-decoration-color: #008000\">\"I'm glad you found them interesting, Joe! Space is a fascinating subject with so much to </span>\n",
       "<span style=\"color: #008000; text-decoration-color: #008000\">learn about. If you have any other questions about space or anything else, feel free to ask!\"</span>, \n",
       "<span style=\"color: #008000; text-decoration-color: #008000\">'model_native_reply'</span>: <span style=\"color: #008000; text-decoration-color: #008000\">'Я рад, что вы нашли их интересными, Джо! Космос - это увлекательная тема, о которой можно </span>\n",
       "<span style=\"color: #008000; text-decoration-color: #008000\">многое узнать. Если у вас есть другие вопросы о космосе или о чем-то еще, не стесняйтесь спрашивать!'</span><span style=\"font-weight: bold\">}]}</span>\n",
       "\n",
       "</pre>\n"
      ],
      "text/plain": [
       "\u001b[1m{\u001b[0m\u001b[32m'assitant_reply'\u001b[0m: \u001b[1m[\u001b[0m\u001b[1m{\u001b[0m\u001b[32m'corrected_english'\u001b[0m: \u001b[32m\"I'm glad you found them interesting, Joe! Space is a fascinating subject\u001b[0m\n",
       "\u001b[32mwith so much to learn about. If you have any other questions about space or anything else, feel free to ask!\"\u001b[0m, \n",
       "\u001b[32m'corrected_native'\u001b[0m: \u001b[32m'Я рад, что вы нашли их интересными, Джо! Космос - это увлекательная тема, о которой можно \u001b[0m\n",
       "\u001b[32mмногое узнать. Если у вас есть другие вопросы о космосе или о чем-то еще, не стесняйтесь спрашивать!'\u001b[0m, \n",
       "\u001b[32m'model_english_reply'\u001b[0m: \u001b[32m\"I'm glad you found them interesting, Joe! Space is a fascinating subject with so much to \u001b[0m\n",
       "\u001b[32mlearn about. If you have any other questions about space or anything else, feel free to ask!\"\u001b[0m, \n",
       "\u001b[32m'model_native_reply'\u001b[0m: \u001b[32m'Я рад, что вы нашли их интересными, Джо! Космос - это увлекательная тема, о которой можно \u001b[0m\n",
       "\u001b[32mмногое узнать. Если у вас есть другие вопросы о космосе или о чем-то еще, не стесняйтесь спрашивать!'\u001b[0m\u001b[1m}\u001b[0m\u001b[1m]\u001b[0m\u001b[1m}\u001b[0m\n",
       "\n"
      ]
     },
     "metadata": {},
     "output_type": "display_data"
    },
    {
     "data": {
      "text/html": [
       "<pre style=\"white-space:pre;overflow-x:auto;line-height:normal;font-family:Menlo,'DejaVu Sans Mono',consolas,'Courier New',monospace\">Input: Why astronaut cant use pens in space keep it short\n",
       "</pre>\n"
      ],
      "text/plain": [
       "Input: Why astronaut cant use pens in space keep it short\n"
      ]
     },
     "metadata": {},
     "output_type": "display_data"
    },
    {
     "data": {
      "text/html": [
       "<pre style=\"white-space:pre;overflow-x:auto;line-height:normal;font-family:Menlo,'DejaVu Sans Mono',consolas,'Courier New',monospace\"><span style=\"font-weight: bold\">{</span><span style=\"color: #008000; text-decoration-color: #008000\">'assitant_reply'</span>: <span style=\"font-weight: bold\">[{</span><span style=\"color: #008000; text-decoration-color: #008000\">'corrected_english'</span>: <span style=\"color: #008000; text-decoration-color: #008000\">\"In space, the lack of gravity prevents regular pens from pushing ink </span>\n",
       "<span style=\"color: #008000; text-decoration-color: #008000\">towards the tip. That's why astronauts use special 'space pens' that use pressurized ink cartridges to work in zero</span>\n",
       "<span style=\"color: #008000; text-decoration-color: #008000\">gravity.\"</span>, <span style=\"color: #008000; text-decoration-color: #008000\">'corrected_native'</span>: <span style=\"color: #008000; text-decoration-color: #008000\">\"В космосе отсутствие гравитации не позволяет обычным ручкам толкать чернила к </span>\n",
       "<span style=\"color: #008000; text-decoration-color: #008000\">кончику. Поэтому астронавты используют специальные 'космические ручки', которые используют под давлением картриджи </span>\n",
       "<span style=\"color: #008000; text-decoration-color: #008000\">с чернилами, чтобы работать в условиях невесомости.\"</span>, <span style=\"color: #008000; text-decoration-color: #008000\">'model_english_reply'</span>: <span style=\"color: #008000; text-decoration-color: #008000\">\"In space, the lack of gravity </span>\n",
       "<span style=\"color: #008000; text-decoration-color: #008000\">prevents regular pens from pushing ink towards the tip. That's why astronauts use special 'space pens' that use </span>\n",
       "<span style=\"color: #008000; text-decoration-color: #008000\">pressurized ink cartridges to work in zero gravity.\"</span>, <span style=\"color: #008000; text-decoration-color: #008000\">'model_native_reply'</span>: <span style=\"color: #008000; text-decoration-color: #008000\">\"В космосе отсутствие гравитации не </span>\n",
       "<span style=\"color: #008000; text-decoration-color: #008000\">позволяет обычным ручкам толкать чернила к кончику. Поэтому астронавты используют специальные 'космические ручки', </span>\n",
       "<span style=\"color: #008000; text-decoration-color: #008000\">которые используют под давлением картриджи с чернилами, чтобы работать в условиях невесомости.\"</span><span style=\"font-weight: bold\">}]}</span>\n",
       "\n",
       "</pre>\n"
      ],
      "text/plain": [
       "\u001b[1m{\u001b[0m\u001b[32m'assitant_reply'\u001b[0m: \u001b[1m[\u001b[0m\u001b[1m{\u001b[0m\u001b[32m'corrected_english'\u001b[0m: \u001b[32m\"In space, the lack of gravity prevents regular pens from pushing ink \u001b[0m\n",
       "\u001b[32mtowards the tip. That's why astronauts use special 'space pens' that use pressurized ink cartridges to work in zero\u001b[0m\n",
       "\u001b[32mgravity.\"\u001b[0m, \u001b[32m'corrected_native'\u001b[0m: \u001b[32m\"В космосе отсутствие гравитации не позволяет обычным ручкам толкать чернила к \u001b[0m\n",
       "\u001b[32mкончику. Поэтому астронавты используют специальные 'космические ручки', которые используют под давлением картриджи \u001b[0m\n",
       "\u001b[32mс чернилами, чтобы работать в условиях невесомости.\"\u001b[0m, \u001b[32m'model_english_reply'\u001b[0m: \u001b[32m\"In space, the lack of gravity \u001b[0m\n",
       "\u001b[32mprevents regular pens from pushing ink towards the tip. That's why astronauts use special 'space pens' that use \u001b[0m\n",
       "\u001b[32mpressurized ink cartridges to work in zero gravity.\"\u001b[0m, \u001b[32m'model_native_reply'\u001b[0m: \u001b[32m\"В космосе отсутствие гравитации не \u001b[0m\n",
       "\u001b[32mпозволяет обычным ручкам толкать чернила к кончику. Поэтому астронавты используют специальные 'космические ручки', \u001b[0m\n",
       "\u001b[32mкоторые используют под давлением картриджи с чернилами, чтобы работать в условиях невесомости.\"\u001b[0m\u001b[1m}\u001b[0m\u001b[1m]\u001b[0m\u001b[1m}\u001b[0m\n",
       "\n"
      ]
     },
     "metadata": {},
     "output_type": "display_data"
    }
   ],
   "source": [
    "for i in range(6):\n",
    "    user_input = input('Prompt:')\n",
    "    print(f'Input: {user_input}')\n",
    "    response=chatbot(user_input)\n",
    "    message_objects.append({\"role\":\"assistant\",\"content\":str(response)})\n",
    "    print(f\"{message_objects[int(len(message_objects)-1)]['content']}\\n\")"
   ]
  },
  {
   "cell_type": "code",
   "execution_count": 13,
   "metadata": {},
   "outputs": [
    {
     "data": {
      "text/html": [
       "<pre style=\"white-space:pre;overflow-x:auto;line-height:normal;font-family:Menlo,'DejaVu Sans Mono',consolas,'Courier New',monospace\">Input: Here's a brief background about me:  ```My name is Joe. I am <span style=\"color: #008080; text-decoration-color: #008080; font-weight: bold\">23</span> years old.  My ethnicity is Asian and my \n",
       "native language is Russian.  I work as a Software Engineer. One of my interests is Science.   Remember my knowledge\n",
       "in English is in the Intermediate level.  Start by introducing yourself to me and I would like to talk about \n",
       "Science.```\n",
       "</pre>\n"
      ],
      "text/plain": [
       "Input: Here's a brief background about me:  ```My name is Joe. I am \u001b[1;36m23\u001b[0m years old.  My ethnicity is Asian and my \n",
       "native language is Russian.  I work as a Software Engineer. One of my interests is Science.   Remember my knowledge\n",
       "in English is in the Intermediate level.  Start by introducing yourself to me and I would like to talk about \n",
       "Science.```\n"
      ]
     },
     "metadata": {},
     "output_type": "display_data"
    },
    {
     "data": {
      "text/html": [
       "<pre style=\"white-space:pre;overflow-x:auto;line-height:normal;font-family:Menlo,'DejaVu Sans Mono',consolas,'Courier New',monospace\"><span style=\"font-weight: bold\">{</span><span style=\"color: #008000; text-decoration-color: #008000\">'assitant_reply'</span>: <span style=\"font-weight: bold\">[{</span><span style=\"color: #008000; text-decoration-color: #008000\">'corrected_english'</span>: <span style=\"color: #008000; text-decoration-color: #008000\">\"Hello Joe! It's nice to meet you. I'm an AI developed by OpenAI. I'm </span>\n",
       "<span style=\"color: #008000; text-decoration-color: #008000\">here to help you improve your English and discuss various topics. I see you're interested in Science. That's a </span>\n",
       "<span style=\"color: #008000; text-decoration-color: #008000\">fascinating field! What particular area of Science are you interested in?\"</span>, <span style=\"color: #008000; text-decoration-color: #008000\">'corrected_native'</span>: <span style=\"color: #008000; text-decoration-color: #008000\">'Привет, Джо! </span>\n",
       "<span style=\"color: #008000; text-decoration-color: #008000\">Приятно познакомиться. Я - ИИ, разработанный OpenAI. Я здесь, чтобы помочь вам улучшить ваш английский и обсудить </span>\n",
       "<span style=\"color: #008000; text-decoration-color: #008000\">различные темы. Я вижу, что вы интересуетесь наукой. Это увлекательная область! В какой конкретной области науки вы</span>\n",
       "<span style=\"color: #008000; text-decoration-color: #008000\">заинтересованы?'</span>, <span style=\"color: #008000; text-decoration-color: #008000\">'model_english_reply'</span>: <span style=\"color: #008000; text-decoration-color: #008000\">\"Hello Joe! It's nice to meet you. I'm an AI developed by OpenAI. I'm here</span>\n",
       "<span style=\"color: #008000; text-decoration-color: #008000\">to help you improve your English and discuss various topics. I see you're interested in Science. That's a </span>\n",
       "<span style=\"color: #008000; text-decoration-color: #008000\">fascinating field! What particular area of Science are you interested in?\"</span>, <span style=\"color: #008000; text-decoration-color: #008000\">'model_native_reply'</span>: <span style=\"color: #008000; text-decoration-color: #008000\">'Привет, Джо! </span>\n",
       "<span style=\"color: #008000; text-decoration-color: #008000\">Приятно познакомиться. Я - ИИ, разработанный OpenAI. Я здесь, чтобы помочь вам улучшить ваш английский и обсудить </span>\n",
       "<span style=\"color: #008000; text-decoration-color: #008000\">различные темы. Я вижу, что вы интересуетесь наукой. Это увлекательная область! В какой конкретной области науки вы</span>\n",
       "<span style=\"color: #008000; text-decoration-color: #008000\">заинтересованы?'</span><span style=\"font-weight: bold\">}]}</span>\n",
       "\n",
       "</pre>\n"
      ],
      "text/plain": [
       "\u001b[1m{\u001b[0m\u001b[32m'assitant_reply'\u001b[0m: \u001b[1m[\u001b[0m\u001b[1m{\u001b[0m\u001b[32m'corrected_english'\u001b[0m: \u001b[32m\"Hello Joe! It's nice to meet you. I'm an AI developed by OpenAI. I'm \u001b[0m\n",
       "\u001b[32mhere to help you improve your English and discuss various topics. I see you're interested in Science. That's a \u001b[0m\n",
       "\u001b[32mfascinating field! What particular area of Science are you interested in?\"\u001b[0m, \u001b[32m'corrected_native'\u001b[0m: \u001b[32m'Привет, Джо! \u001b[0m\n",
       "\u001b[32mПриятно познакомиться. Я - ИИ, разработанный OpenAI. Я здесь, чтобы помочь вам улучшить ваш английский и обсудить \u001b[0m\n",
       "\u001b[32mразличные темы. Я вижу, что вы интересуетесь наукой. Это увлекательная область! В какой конкретной области науки вы\u001b[0m\n",
       "\u001b[32mзаинтересованы?'\u001b[0m, \u001b[32m'model_english_reply'\u001b[0m: \u001b[32m\"Hello Joe! It's nice to meet you. I'm an AI developed by OpenAI. I'm here\u001b[0m\n",
       "\u001b[32mto help you improve your English and discuss various topics. I see you're interested in Science. That's a \u001b[0m\n",
       "\u001b[32mfascinating field! What particular area of Science are you interested in?\"\u001b[0m, \u001b[32m'model_native_reply'\u001b[0m: \u001b[32m'Привет, Джо! \u001b[0m\n",
       "\u001b[32mПриятно познакомиться. Я - ИИ, разработанный OpenAI. Я здесь, чтобы помочь вам улучшить ваш английский и обсудить \u001b[0m\n",
       "\u001b[32mразличные темы. Я вижу, что вы интересуетесь наукой. Это увлекательная область! В какой конкретной области науки вы\u001b[0m\n",
       "\u001b[32mзаинтересованы?'\u001b[0m\u001b[1m}\u001b[0m\u001b[1m]\u001b[0m\u001b[1m}\u001b[0m\n",
       "\n"
      ]
     },
     "metadata": {},
     "output_type": "display_data"
    },
    {
     "data": {
      "text/html": [
       "<pre style=\"white-space:pre;overflow-x:auto;line-height:normal;font-family:Menlo,'DejaVu Sans Mono',consolas,'Courier New',monospace\">Input: I am interested in biology\n",
       "</pre>\n"
      ],
      "text/plain": [
       "Input: I am interested in biology\n"
      ]
     },
     "metadata": {},
     "output_type": "display_data"
    },
    {
     "data": {
      "text/html": [
       "<pre style=\"white-space:pre;overflow-x:auto;line-height:normal;font-family:Menlo,'DejaVu Sans Mono',consolas,'Courier New',monospace\"><span style=\"font-weight: bold\">{</span><span style=\"color: #008000; text-decoration-color: #008000\">'assitant_reply'</span>: <span style=\"font-weight: bold\">[{</span><span style=\"color: #008000; text-decoration-color: #008000\">'corrected_english'</span>: <span style=\"color: #008000; text-decoration-color: #008000\">\"That's great, Joe! Biology is a vast and diverse field, encompassing </span>\n",
       "<span style=\"color: #008000; text-decoration-color: #008000\">everything from the study of microscopic organisms to the complex ecosystems of our planet. Do you have a specific </span>\n",
       "<span style=\"color: #008000; text-decoration-color: #008000\">topic in biology that you're particularly interested in?\"</span>, <span style=\"color: #008000; text-decoration-color: #008000\">'corrected_native'</span>: <span style=\"color: #008000; text-decoration-color: #008000\">'Это здорово, Джо! Биология - это </span>\n",
       "<span style=\"color: #008000; text-decoration-color: #008000\">обширная и разнообразная область, охватывающая все, от изучения микроскопических организмов до сложных экосистем </span>\n",
       "<span style=\"color: #008000; text-decoration-color: #008000\">нашей планеты. Есть ли у вас конкретная тема в биологии, которая вас особенно интересует?'</span>, <span style=\"color: #008000; text-decoration-color: #008000\">'model_english_reply'</span>: \n",
       "<span style=\"color: #008000; text-decoration-color: #008000\">\"That's great, Joe! Biology is a vast and diverse field, encompassing everything from the study of microscopic </span>\n",
       "<span style=\"color: #008000; text-decoration-color: #008000\">organisms to the complex ecosystems of our planet. Do you have a specific topic in biology that you're particularly</span>\n",
       "<span style=\"color: #008000; text-decoration-color: #008000\">interested in?\"</span>, <span style=\"color: #008000; text-decoration-color: #008000\">'model_native_reply'</span>: <span style=\"color: #008000; text-decoration-color: #008000\">'Это здорово, Джо! Биология - это обширная и разнообразная область, </span>\n",
       "<span style=\"color: #008000; text-decoration-color: #008000\">охватывающая все, от изучения микроскопических организмов до сложных экосистем нашей планеты. Есть ли у вас </span>\n",
       "<span style=\"color: #008000; text-decoration-color: #008000\">конкретная тема в биологии, которая вас особенно интересует?'</span><span style=\"font-weight: bold\">}]}</span>\n",
       "\n",
       "</pre>\n"
      ],
      "text/plain": [
       "\u001b[1m{\u001b[0m\u001b[32m'assitant_reply'\u001b[0m: \u001b[1m[\u001b[0m\u001b[1m{\u001b[0m\u001b[32m'corrected_english'\u001b[0m: \u001b[32m\"That's great, Joe! Biology is a vast and diverse field, encompassing \u001b[0m\n",
       "\u001b[32meverything from the study of microscopic organisms to the complex ecosystems of our planet. Do you have a specific \u001b[0m\n",
       "\u001b[32mtopic in biology that you're particularly interested in?\"\u001b[0m, \u001b[32m'corrected_native'\u001b[0m: \u001b[32m'Это здорово, Джо! Биология - это \u001b[0m\n",
       "\u001b[32mобширная и разнообразная область, охватывающая все, от изучения микроскопических организмов до сложных экосистем \u001b[0m\n",
       "\u001b[32mнашей планеты. Есть ли у вас конкретная тема в биологии, которая вас особенно интересует?'\u001b[0m, \u001b[32m'model_english_reply'\u001b[0m: \n",
       "\u001b[32m\"That's great, Joe! Biology is a vast and diverse field, encompassing everything from the study of microscopic \u001b[0m\n",
       "\u001b[32morganisms to the complex ecosystems of our planet. Do you have a specific topic in biology that you're particularly\u001b[0m\n",
       "\u001b[32minterested in?\"\u001b[0m, \u001b[32m'model_native_reply'\u001b[0m: \u001b[32m'Это здорово, Джо! Биология - это обширная и разнообразная область, \u001b[0m\n",
       "\u001b[32mохватывающая все, от изучения микроскопических организмов до сложных экосистем нашей планеты. Есть ли у вас \u001b[0m\n",
       "\u001b[32mконкретная тема в биологии, которая вас особенно интересует?'\u001b[0m\u001b[1m}\u001b[0m\u001b[1m]\u001b[0m\u001b[1m}\u001b[0m\n",
       "\n"
      ]
     },
     "metadata": {},
     "output_type": "display_data"
    },
    {
     "data": {
      "text/html": [
       "<pre style=\"white-space:pre;overflow-x:auto;line-height:normal;font-family:Menlo,'DejaVu Sans Mono',consolas,'Courier New',monospace\">Input: I am loving what charles darwin doing in his work\n",
       "</pre>\n"
      ],
      "text/plain": [
       "Input: I am loving what charles darwin doing in his work\n"
      ]
     },
     "metadata": {},
     "output_type": "display_data"
    },
    {
     "data": {
      "text/html": [
       "<pre style=\"white-space:pre;overflow-x:auto;line-height:normal;font-family:Menlo,'DejaVu Sans Mono',consolas,'Courier New',monospace\"><span style=\"font-weight: bold\">{</span><span style=\"color: #008000; text-decoration-color: #008000\">'assitant_reply'</span>: <span style=\"font-weight: bold\">[{</span><span style=\"color: #008000; text-decoration-color: #008000\">'corrected_english'</span>: <span style=\"color: #008000; text-decoration-color: #008000\">\"It sounds like you're interested in Charles Darwin's work on evolution </span>\n",
       "<span style=\"color: #008000; text-decoration-color: #008000\">and natural selection. His theories have had a profound impact on our understanding of life on Earth. What </span>\n",
       "<span style=\"color: #008000; text-decoration-color: #008000\">specifically about Darwin's work do you find most fascinating?\"</span>, <span style=\"color: #008000; text-decoration-color: #008000\">'corrected_native'</span>: <span style=\"color: #008000; text-decoration-color: #008000\">'Похоже, вас интересуют работы</span>\n",
       "<span style=\"color: #008000; text-decoration-color: #008000\">Чарльза Дарвина об эволюции и естественном отборе. Его теории оказали глубокое влияние на наше понимание жизни на </span>\n",
       "<span style=\"color: #008000; text-decoration-color: #008000\">Земле. Что именно в работе Дарвина вас больше всего увлекает?'</span>, <span style=\"color: #008000; text-decoration-color: #008000\">'model_english_reply'</span>: <span style=\"color: #008000; text-decoration-color: #008000\">\"It sounds like you're </span>\n",
       "<span style=\"color: #008000; text-decoration-color: #008000\">interested in Charles Darwin's work on evolution and natural selection. His theories have had a profound impact on </span>\n",
       "<span style=\"color: #008000; text-decoration-color: #008000\">our understanding of life on Earth. What specifically about Darwin's work do you find most fascinating?\"</span>, \n",
       "<span style=\"color: #008000; text-decoration-color: #008000\">'model_native_reply'</span>: <span style=\"color: #008000; text-decoration-color: #008000\">'Похоже, вас интересуют работы Чарльза Дарвина об эволюции и естественном отборе. Его теории </span>\n",
       "<span style=\"color: #008000; text-decoration-color: #008000\">оказали глубокое влияние на наше понимание жизни на Земле. Что именно в работе Дарвина вас больше всего </span>\n",
       "<span style=\"color: #008000; text-decoration-color: #008000\">увлекает?'</span><span style=\"font-weight: bold\">}]}</span>\n",
       "\n",
       "</pre>\n"
      ],
      "text/plain": [
       "\u001b[1m{\u001b[0m\u001b[32m'assitant_reply'\u001b[0m: \u001b[1m[\u001b[0m\u001b[1m{\u001b[0m\u001b[32m'corrected_english'\u001b[0m: \u001b[32m\"It sounds like you're interested in Charles Darwin's work on evolution \u001b[0m\n",
       "\u001b[32mand natural selection. His theories have had a profound impact on our understanding of life on Earth. What \u001b[0m\n",
       "\u001b[32mspecifically about Darwin's work do you find most fascinating?\"\u001b[0m, \u001b[32m'corrected_native'\u001b[0m: \u001b[32m'Похоже, вас интересуют работы\u001b[0m\n",
       "\u001b[32mЧарльза Дарвина об эволюции и естественном отборе. Его теории оказали глубокое влияние на наше понимание жизни на \u001b[0m\n",
       "\u001b[32mЗемле. Что именно в работе Дарвина вас больше всего увлекает?'\u001b[0m, \u001b[32m'model_english_reply'\u001b[0m: \u001b[32m\"It sounds like you're \u001b[0m\n",
       "\u001b[32minterested in Charles Darwin's work on evolution and natural selection. His theories have had a profound impact on \u001b[0m\n",
       "\u001b[32mour understanding of life on Earth. What specifically about Darwin's work do you find most fascinating?\"\u001b[0m, \n",
       "\u001b[32m'model_native_reply'\u001b[0m: \u001b[32m'Похоже, вас интересуют работы Чарльза Дарвина об эволюции и естественном отборе. Его теории \u001b[0m\n",
       "\u001b[32mоказали глубокое влияние на наше понимание жизни на Земле. Что именно в работе Дарвина вас больше всего \u001b[0m\n",
       "\u001b[32mувлекает?'\u001b[0m\u001b[1m}\u001b[0m\u001b[1m]\u001b[0m\u001b[1m}\u001b[0m\n",
       "\n"
      ]
     },
     "metadata": {},
     "output_type": "display_data"
    },
    {
     "data": {
      "text/html": [
       "<pre style=\"white-space:pre;overflow-x:auto;line-height:normal;font-family:Menlo,'DejaVu Sans Mono',consolas,'Courier New',monospace\">Input: His theory in evolution is great\n",
       "</pre>\n"
      ],
      "text/plain": [
       "Input: His theory in evolution is great\n"
      ]
     },
     "metadata": {},
     "output_type": "display_data"
    },
    {
     "data": {
      "text/html": [
       "<pre style=\"white-space:pre;overflow-x:auto;line-height:normal;font-family:Menlo,'DejaVu Sans Mono',consolas,'Courier New',monospace\"><span style=\"font-weight: bold\">{</span><span style=\"color: #008000; text-decoration-color: #008000\">'assitant_reply'</span>: <span style=\"font-weight: bold\">[{</span><span style=\"color: #008000; text-decoration-color: #008000\">'corrected_english'</span>: <span style=\"color: #008000; text-decoration-color: #008000\">\"Indeed, Darwin's theory of evolution is a cornerstone of modern biology.</span>\n",
       "<span style=\"color: #008000; text-decoration-color: #008000\">It explains how species adapt and change over time through the process of natural selection. Is there a particular </span>\n",
       "<span style=\"color: #008000; text-decoration-color: #008000\">aspect of the theory that you find most intriguing?\"</span>, <span style=\"color: #008000; text-decoration-color: #008000\">'corrected_native'</span>: <span style=\"color: #008000; text-decoration-color: #008000\">'Действительно, теория Дарвина об </span>\n",
       "<span style=\"color: #008000; text-decoration-color: #008000\">эволюции является краеугольным камнем современной биологии. Она объясняет, как виды адаптируются и меняются со </span>\n",
       "<span style=\"color: #008000; text-decoration-color: #008000\">временем через процесс естественного отбора. Есть ли какой-то конкретный аспект теории, который вас больше всего </span>\n",
       "<span style=\"color: #008000; text-decoration-color: #008000\">интригует?'</span>, <span style=\"color: #008000; text-decoration-color: #008000\">'model_english_reply'</span>: <span style=\"color: #008000; text-decoration-color: #008000\">\"Indeed, Darwin's theory of evolution is a cornerstone of modern biology. It </span>\n",
       "<span style=\"color: #008000; text-decoration-color: #008000\">explains how species adapt and change over time through the process of natural selection. Is there a particular </span>\n",
       "<span style=\"color: #008000; text-decoration-color: #008000\">aspect of the theory that you find most intriguing?\"</span>, <span style=\"color: #008000; text-decoration-color: #008000\">'model_native_reply'</span>: <span style=\"color: #008000; text-decoration-color: #008000\">'Действительно, теория Дарвина об </span>\n",
       "<span style=\"color: #008000; text-decoration-color: #008000\">эволюции является краеугольным камнем современной биологии. Она объясняет, как виды адаптируются и меняются со </span>\n",
       "<span style=\"color: #008000; text-decoration-color: #008000\">временем через процесс естественного отбора. Есть ли какой-то конкретный аспект теории, который вас больше всего </span>\n",
       "<span style=\"color: #008000; text-decoration-color: #008000\">интригует?'</span><span style=\"font-weight: bold\">}]}</span>\n",
       "\n",
       "</pre>\n"
      ],
      "text/plain": [
       "\u001b[1m{\u001b[0m\u001b[32m'assitant_reply'\u001b[0m: \u001b[1m[\u001b[0m\u001b[1m{\u001b[0m\u001b[32m'corrected_english'\u001b[0m: \u001b[32m\"Indeed, Darwin's theory of evolution is a cornerstone of modern biology.\u001b[0m\n",
       "\u001b[32mIt explains how species adapt and change over time through the process of natural selection. Is there a particular \u001b[0m\n",
       "\u001b[32maspect of the theory that you find most intriguing?\"\u001b[0m, \u001b[32m'corrected_native'\u001b[0m: \u001b[32m'Действительно, теория Дарвина об \u001b[0m\n",
       "\u001b[32mэволюции является краеугольным камнем современной биологии. Она объясняет, как виды адаптируются и меняются со \u001b[0m\n",
       "\u001b[32mвременем через процесс естественного отбора. Есть ли какой-то конкретный аспект теории, который вас больше всего \u001b[0m\n",
       "\u001b[32mинтригует?'\u001b[0m, \u001b[32m'model_english_reply'\u001b[0m: \u001b[32m\"Indeed, Darwin's theory of evolution is a cornerstone of modern biology. It \u001b[0m\n",
       "\u001b[32mexplains how species adapt and change over time through the process of natural selection. Is there a particular \u001b[0m\n",
       "\u001b[32maspect of the theory that you find most intriguing?\"\u001b[0m, \u001b[32m'model_native_reply'\u001b[0m: \u001b[32m'Действительно, теория Дарвина об \u001b[0m\n",
       "\u001b[32mэволюции является краеугольным камнем современной биологии. Она объясняет, как виды адаптируются и меняются со \u001b[0m\n",
       "\u001b[32mвременем через процесс естественного отбора. Есть ли какой-то конкретный аспект теории, который вас больше всего \u001b[0m\n",
       "\u001b[32mинтригует?'\u001b[0m\u001b[1m}\u001b[0m\u001b[1m]\u001b[0m\u001b[1m}\u001b[0m\n",
       "\n"
      ]
     },
     "metadata": {},
     "output_type": "display_data"
    },
    {
     "data": {
      "text/html": [
       "<pre style=\"white-space:pre;overflow-x:auto;line-height:normal;font-family:Menlo,'DejaVu Sans Mono',consolas,'Courier New',monospace\">Input: Is how the fittest is chosen \n",
       "</pre>\n"
      ],
      "text/plain": [
       "Input: Is how the fittest is chosen \n"
      ]
     },
     "metadata": {},
     "output_type": "display_data"
    },
    {
     "data": {
      "text/html": [
       "<pre style=\"white-space:pre;overflow-x:auto;line-height:normal;font-family:Menlo,'DejaVu Sans Mono',consolas,'Courier New',monospace\"><span style=\"font-weight: bold\">{</span><span style=\"color: #008000; text-decoration-color: #008000\">'assitant_reply'</span>: <span style=\"font-weight: bold\">[{</span><span style=\"color: #008000; text-decoration-color: #008000\">'corrected_english'</span>: <span style=\"color: #008000; text-decoration-color: #008000\">\"Ah, you're referring to the concept of 'survival of the fittest.' This </span>\n",
       "<span style=\"color: #008000; text-decoration-color: #008000\">is a key part of Darwin's theory of natural selection. It suggests that individuals who are best adapted to their </span>\n",
       "<span style=\"color: #008000; text-decoration-color: #008000\">environment are more likely to survive and reproduce, passing on their advantageous traits to their offspring. Over</span>\n",
       "<span style=\"color: #008000; text-decoration-color: #008000\">time, these traits become more common in the population, leading to evolutionary change. It's a fascinating </span>\n",
       "<span style=\"color: #008000; text-decoration-color: #008000\">process!\"</span>, <span style=\"color: #008000; text-decoration-color: #008000\">'corrected_native'</span>: <span style=\"color: #008000; text-decoration-color: #008000\">\"А, вы говорите о концепции 'выживания самого приспособленного'. Это ключевая часть </span>\n",
       "<span style=\"color: #008000; text-decoration-color: #008000\">теории Дарвина о естественном отборе. Она предполагает, что особи, которые лучше всего приспособлены к своей среде,</span>\n",
       "<span style=\"color: #008000; text-decoration-color: #008000\">более вероятно выживут и размножатся, передавая свои преимущественные черты своему потомству. Со временем эти черты</span>\n",
       "<span style=\"color: #008000; text-decoration-color: #008000\">становятся более распространенными в популяции, что приводит к эволюционным изменениям. Это увлекательный </span>\n",
       "<span style=\"color: #008000; text-decoration-color: #008000\">процесс!\"</span>, <span style=\"color: #008000; text-decoration-color: #008000\">'model_english_reply'</span>: <span style=\"color: #008000; text-decoration-color: #008000\">\"Ah, you're referring to the concept of 'survival of the fittest.' This is a key </span>\n",
       "<span style=\"color: #008000; text-decoration-color: #008000\">part of Darwin's theory of natural selection. It suggests that individuals who are best adapted to their </span>\n",
       "<span style=\"color: #008000; text-decoration-color: #008000\">environment are more likely to survive and reproduce, passing on their advantageous traits to their offspring. Over</span>\n",
       "<span style=\"color: #008000; text-decoration-color: #008000\">time, these traits become more common in the population, leading to evolutionary change. It's a fascinating </span>\n",
       "<span style=\"color: #008000; text-decoration-color: #008000\">process!\"</span>, <span style=\"color: #008000; text-decoration-color: #008000\">'model_native_reply'</span>: <span style=\"color: #008000; text-decoration-color: #008000\">\"А, вы говорите о концепции 'выживания самого приспособленного'. Это ключевая </span>\n",
       "<span style=\"color: #008000; text-decoration-color: #008000\">часть теории Дарвина о естественном отборе. Она предполагает, что особи, которые лучше всего приспособлены к своей </span>\n",
       "<span style=\"color: #008000; text-decoration-color: #008000\">среде, более вероятно выживут и размножатся, передавая свои преимущественные черты своему потомству. Со временем </span>\n",
       "<span style=\"color: #008000; text-decoration-color: #008000\">эти черты становятся более распространенными в популяции, что приводит к эволюционным изменениям. Это увлекательный</span>\n",
       "<span style=\"color: #008000; text-decoration-color: #008000\">процесс!\"</span><span style=\"font-weight: bold\">}]}</span>\n",
       "\n",
       "</pre>\n"
      ],
      "text/plain": [
       "\u001b[1m{\u001b[0m\u001b[32m'assitant_reply'\u001b[0m: \u001b[1m[\u001b[0m\u001b[1m{\u001b[0m\u001b[32m'corrected_english'\u001b[0m: \u001b[32m\"Ah, you're referring to the concept of 'survival of the fittest.' This \u001b[0m\n",
       "\u001b[32mis a key part of Darwin's theory of natural selection. It suggests that individuals who are best adapted to their \u001b[0m\n",
       "\u001b[32menvironment are more likely to survive and reproduce, passing on their advantageous traits to their offspring. Over\u001b[0m\n",
       "\u001b[32mtime, these traits become more common in the population, leading to evolutionary change. It's a fascinating \u001b[0m\n",
       "\u001b[32mprocess!\"\u001b[0m, \u001b[32m'corrected_native'\u001b[0m: \u001b[32m\"А, вы говорите о концепции 'выживания самого приспособленного'. Это ключевая часть \u001b[0m\n",
       "\u001b[32mтеории Дарвина о естественном отборе. Она предполагает, что особи, которые лучше всего приспособлены к своей среде,\u001b[0m\n",
       "\u001b[32mболее вероятно выживут и размножатся, передавая свои преимущественные черты своему потомству. Со временем эти черты\u001b[0m\n",
       "\u001b[32mстановятся более распространенными в популяции, что приводит к эволюционным изменениям. Это увлекательный \u001b[0m\n",
       "\u001b[32mпроцесс!\"\u001b[0m, \u001b[32m'model_english_reply'\u001b[0m: \u001b[32m\"Ah, you're referring to the concept of 'survival of the fittest.' This is a key \u001b[0m\n",
       "\u001b[32mpart of Darwin's theory of natural selection. It suggests that individuals who are best adapted to their \u001b[0m\n",
       "\u001b[32menvironment are more likely to survive and reproduce, passing on their advantageous traits to their offspring. Over\u001b[0m\n",
       "\u001b[32mtime, these traits become more common in the population, leading to evolutionary change. It's a fascinating \u001b[0m\n",
       "\u001b[32mprocess!\"\u001b[0m, \u001b[32m'model_native_reply'\u001b[0m: \u001b[32m\"А, вы говорите о концепции 'выживания самого приспособленного'. Это ключевая \u001b[0m\n",
       "\u001b[32mчасть теории Дарвина о естественном отборе. Она предполагает, что особи, которые лучше всего приспособлены к своей \u001b[0m\n",
       "\u001b[32mсреде, более вероятно выживут и размножатся, передавая свои преимущественные черты своему потомству. Со временем \u001b[0m\n",
       "\u001b[32mэти черты становятся более распространенными в популяции, что приводит к эволюционным изменениям. Это увлекательный\u001b[0m\n",
       "\u001b[32mпроцесс!\"\u001b[0m\u001b[1m}\u001b[0m\u001b[1m]\u001b[0m\u001b[1m}\u001b[0m\n",
       "\n"
      ]
     },
     "metadata": {},
     "output_type": "display_data"
    },
    {
     "data": {
      "text/html": [
       "<pre style=\"white-space:pre;overflow-x:auto;line-height:normal;font-family:Menlo,'DejaVu Sans Mono',consolas,'Courier New',monospace\">Input: How do the fittest is chosen? keep it short pls\n",
       "</pre>\n"
      ],
      "text/plain": [
       "Input: How do the fittest is chosen? keep it short pls\n"
      ]
     },
     "metadata": {},
     "output_type": "display_data"
    },
    {
     "data": {
      "text/html": [
       "<pre style=\"white-space:pre;overflow-x:auto;line-height:normal;font-family:Menlo,'DejaVu Sans Mono',consolas,'Courier New',monospace\"><span style=\"font-weight: bold\">{</span><span style=\"color: #008000; text-decoration-color: #008000\">'assitant_reply'</span>: <span style=\"font-weight: bold\">[{</span><span style=\"color: #008000; text-decoration-color: #008000\">'corrected_english'</span>: <span style=\"color: #008000; text-decoration-color: #008000\">\"In natural selection, the 'fittest' are those who are best adapted to </span>\n",
       "<span style=\"color: #008000; text-decoration-color: #008000\">their environment. They survive, reproduce, and pass on their traits to the next generation.\"</span>, <span style=\"color: #008000; text-decoration-color: #008000\">'corrected_native'</span>: \n",
       "<span style=\"color: #008000; text-decoration-color: #008000\">\"В естественном отборе 'самые приспособленные' - это те, кто лучше всего приспособлен к своей среде. Они выживают, </span>\n",
       "<span style=\"color: #008000; text-decoration-color: #008000\">размножаются и передают свои черты следующему поколению.\"</span>, <span style=\"color: #008000; text-decoration-color: #008000\">'model_english_reply'</span>: <span style=\"color: #008000; text-decoration-color: #008000\">\"In natural selection, the </span>\n",
       "<span style=\"color: #008000; text-decoration-color: #008000\">'fittest' are those who are best adapted to their environment. They survive, reproduce, and pass on their traits to</span>\n",
       "<span style=\"color: #008000; text-decoration-color: #008000\">the next generation.\"</span>, <span style=\"color: #008000; text-decoration-color: #008000\">'model_native_reply'</span>: <span style=\"color: #008000; text-decoration-color: #008000\">\"В естественном отборе 'самые приспособленные' - это те, кто лучше </span>\n",
       "<span style=\"color: #008000; text-decoration-color: #008000\">всего приспособлен к своей среде. Они выживают, размножаются и передают свои черты следующему поколению.\"</span><span style=\"font-weight: bold\">}]}</span>\n",
       "\n",
       "</pre>\n"
      ],
      "text/plain": [
       "\u001b[1m{\u001b[0m\u001b[32m'assitant_reply'\u001b[0m: \u001b[1m[\u001b[0m\u001b[1m{\u001b[0m\u001b[32m'corrected_english'\u001b[0m: \u001b[32m\"In natural selection, the 'fittest' are those who are best adapted to \u001b[0m\n",
       "\u001b[32mtheir environment. They survive, reproduce, and pass on their traits to the next generation.\"\u001b[0m, \u001b[32m'corrected_native'\u001b[0m: \n",
       "\u001b[32m\"В естественном отборе 'самые приспособленные' - это те, кто лучше всего приспособлен к своей среде. Они выживают, \u001b[0m\n",
       "\u001b[32mразмножаются и передают свои черты следующему поколению.\"\u001b[0m, \u001b[32m'model_english_reply'\u001b[0m: \u001b[32m\"In natural selection, the \u001b[0m\n",
       "\u001b[32m'fittest' are those who are best adapted to their environment. They survive, reproduce, and pass on their traits to\u001b[0m\n",
       "\u001b[32mthe next generation.\"\u001b[0m, \u001b[32m'model_native_reply'\u001b[0m: \u001b[32m\"В естественном отборе 'самые приспособленные' - это те, кто лучше \u001b[0m\n",
       "\u001b[32mвсего приспособлен к своей среде. Они выживают, размножаются и передают свои черты следующему поколению.\"\u001b[0m\u001b[1m}\u001b[0m\u001b[1m]\u001b[0m\u001b[1m}\u001b[0m\n",
       "\n"
      ]
     },
     "metadata": {},
     "output_type": "display_data"
    }
   ],
   "source": [
    "for i in range(6):\n",
    "    user_input = input('Prompt:')\n",
    "    print(f'Input: {user_input}')\n",
    "    response=chatbot(user_input)\n",
    "    message_objects.append({\"role\":\"assistant\",\"content\":str(response)})\n",
    "    print(f\"{message_objects[int(len(message_objects)-1)]['content']}\\n\")"
   ]
  },
  {
   "cell_type": "code",
   "execution_count": 14,
   "metadata": {},
   "outputs": [
    {
     "data": {
      "text/html": [
       "<pre style=\"white-space:pre;overflow-x:auto;line-height:normal;font-family:Menlo,'DejaVu Sans Mono',consolas,'Courier New',monospace\">Input: Here's a brief background about me:  ```My name is Joe. I am <span style=\"color: #008080; text-decoration-color: #008080; font-weight: bold\">23</span> years old.  My ethnicity is Asian and my \n",
       "native language is Russian.  I work as a Software Engineer. One of my interests is Science.   Remember my knowledge\n",
       "in English is in the Advanced level.  Start by introducing yourself to me and I would like to talk about \n",
       "Science.```\n",
       "</pre>\n"
      ],
      "text/plain": [
       "Input: Here's a brief background about me:  ```My name is Joe. I am \u001b[1;36m23\u001b[0m years old.  My ethnicity is Asian and my \n",
       "native language is Russian.  I work as a Software Engineer. One of my interests is Science.   Remember my knowledge\n",
       "in English is in the Advanced level.  Start by introducing yourself to me and I would like to talk about \n",
       "Science.```\n"
      ]
     },
     "metadata": {},
     "output_type": "display_data"
    },
    {
     "data": {
      "text/html": [
       "<pre style=\"white-space:pre;overflow-x:auto;line-height:normal;font-family:Menlo,'DejaVu Sans Mono',consolas,'Courier New',monospace\"><span style=\"font-weight: bold\">{</span><span style=\"color: #008000; text-decoration-color: #008000\">'assitant_reply'</span>: <span style=\"font-weight: bold\">[{</span><span style=\"color: #008000; text-decoration-color: #008000\">'corrected_english'</span>: <span style=\"color: #008000; text-decoration-color: #008000\">\"Hello Joe! It's nice to meet you. I'm an AI developed by OpenAI. I'm </span>\n",
       "<span style=\"color: #008000; text-decoration-color: #008000\">here to help you improve your English and discuss various topics. I see you're interested in Science. That's a </span>\n",
       "<span style=\"color: #008000; text-decoration-color: #008000\">fascinating field! What particular area of Science are you interested in?\"</span>, <span style=\"color: #008000; text-decoration-color: #008000\">'corrected_native'</span>: <span style=\"color: #008000; text-decoration-color: #008000\">'Привет, Джо! </span>\n",
       "<span style=\"color: #008000; text-decoration-color: #008000\">Приятно познакомиться. Я - ИИ, разработанный OpenAI. Я здесь, чтобы помочь вам улучшить ваш английский и обсудить </span>\n",
       "<span style=\"color: #008000; text-decoration-color: #008000\">различные темы. Я вижу, что вы интересуетесь наукой. Это увлекательная область! В какой конкретной области науки вы</span>\n",
       "<span style=\"color: #008000; text-decoration-color: #008000\">заинтересованы?'</span>, <span style=\"color: #008000; text-decoration-color: #008000\">'model_english_reply'</span>: <span style=\"color: #008000; text-decoration-color: #008000\">\"Hello Joe! It's nice to meet you. I'm an AI developed by OpenAI. I'm here</span>\n",
       "<span style=\"color: #008000; text-decoration-color: #008000\">to help you improve your English and discuss various topics. I see you're interested in Science. That's a </span>\n",
       "<span style=\"color: #008000; text-decoration-color: #008000\">fascinating field! What particular area of Science are you interested in?\"</span>, <span style=\"color: #008000; text-decoration-color: #008000\">'model_native_reply'</span>: <span style=\"color: #008000; text-decoration-color: #008000\">'Привет, Джо! </span>\n",
       "<span style=\"color: #008000; text-decoration-color: #008000\">Приятно познакомиться. Я - ИИ, разработанный OpenAI. Я здесь, чтобы помочь вам улучшить ваш английский и обсудить </span>\n",
       "<span style=\"color: #008000; text-decoration-color: #008000\">различные темы. Я вижу, что вы интересуетесь наукой. Это увлекательная область! В какой конкретной области науки вы</span>\n",
       "<span style=\"color: #008000; text-decoration-color: #008000\">заинтересованы?'</span><span style=\"font-weight: bold\">}]}</span>\n",
       "\n",
       "</pre>\n"
      ],
      "text/plain": [
       "\u001b[1m{\u001b[0m\u001b[32m'assitant_reply'\u001b[0m: \u001b[1m[\u001b[0m\u001b[1m{\u001b[0m\u001b[32m'corrected_english'\u001b[0m: \u001b[32m\"Hello Joe! It's nice to meet you. I'm an AI developed by OpenAI. I'm \u001b[0m\n",
       "\u001b[32mhere to help you improve your English and discuss various topics. I see you're interested in Science. That's a \u001b[0m\n",
       "\u001b[32mfascinating field! What particular area of Science are you interested in?\"\u001b[0m, \u001b[32m'corrected_native'\u001b[0m: \u001b[32m'Привет, Джо! \u001b[0m\n",
       "\u001b[32mПриятно познакомиться. Я - ИИ, разработанный OpenAI. Я здесь, чтобы помочь вам улучшить ваш английский и обсудить \u001b[0m\n",
       "\u001b[32mразличные темы. Я вижу, что вы интересуетесь наукой. Это увлекательная область! В какой конкретной области науки вы\u001b[0m\n",
       "\u001b[32mзаинтересованы?'\u001b[0m, \u001b[32m'model_english_reply'\u001b[0m: \u001b[32m\"Hello Joe! It's nice to meet you. I'm an AI developed by OpenAI. I'm here\u001b[0m\n",
       "\u001b[32mto help you improve your English and discuss various topics. I see you're interested in Science. That's a \u001b[0m\n",
       "\u001b[32mfascinating field! What particular area of Science are you interested in?\"\u001b[0m, \u001b[32m'model_native_reply'\u001b[0m: \u001b[32m'Привет, Джо! \u001b[0m\n",
       "\u001b[32mПриятно познакомиться. Я - ИИ, разработанный OpenAI. Я здесь, чтобы помочь вам улучшить ваш английский и обсудить \u001b[0m\n",
       "\u001b[32mразличные темы. Я вижу, что вы интересуетесь наукой. Это увлекательная область! В какой конкретной области науки вы\u001b[0m\n",
       "\u001b[32mзаинтересованы?'\u001b[0m\u001b[1m}\u001b[0m\u001b[1m]\u001b[0m\u001b[1m}\u001b[0m\n",
       "\n"
      ]
     },
     "metadata": {},
     "output_type": "display_data"
    },
    {
     "data": {
      "text/html": [
       "<pre style=\"white-space:pre;overflow-x:auto;line-height:normal;font-family:Menlo,'DejaVu Sans Mono',consolas,'Courier New',monospace\">Input: I am interested in astronomy\n",
       "</pre>\n"
      ],
      "text/plain": [
       "Input: I am interested in astronomy\n"
      ]
     },
     "metadata": {},
     "output_type": "display_data"
    },
    {
     "data": {
      "text/html": [
       "<pre style=\"white-space:pre;overflow-x:auto;line-height:normal;font-family:Menlo,'DejaVu Sans Mono',consolas,'Courier New',monospace\"><span style=\"font-weight: bold\">{</span><span style=\"color: #008000; text-decoration-color: #008000\">'assitant_reply'</span>: <span style=\"font-weight: bold\">[{</span><span style=\"color: #008000; text-decoration-color: #008000\">'corrected_english'</span>: <span style=\"color: #008000; text-decoration-color: #008000\">\"That's wonderful, Joe! Astronomy is a fascinating field that explores </span>\n",
       "<span style=\"color: #008000; text-decoration-color: #008000\">the mysteries of the universe. Are there any specific topics in astronomy that you're particularly interested in?\"</span>,\n",
       "<span style=\"color: #008000; text-decoration-color: #008000\">'corrected_native'</span>: <span style=\"color: #008000; text-decoration-color: #008000\">'Это замечательно, Джо! Астрономия - это увлекательная область, которая исследует тайны </span>\n",
       "<span style=\"color: #008000; text-decoration-color: #008000\">вселенной. Есть ли какие-то конкретные темы в астрономии, которые вас особенно интересуют?'</span>, <span style=\"color: #008000; text-decoration-color: #008000\">'model_english_reply'</span>:\n",
       "<span style=\"color: #008000; text-decoration-color: #008000\">\"That's wonderful, Joe! Astronomy is a fascinating field that explores the mysteries of the universe. Are there any</span>\n",
       "<span style=\"color: #008000; text-decoration-color: #008000\">specific topics in astronomy that you're particularly interested in?\"</span>, <span style=\"color: #008000; text-decoration-color: #008000\">'model_native_reply'</span>: <span style=\"color: #008000; text-decoration-color: #008000\">'Это замечательно, </span>\n",
       "<span style=\"color: #008000; text-decoration-color: #008000\">Джо! Астрономия - это увлекательная область, которая исследует тайны вселенной. Есть ли какие-то конкретные темы в </span>\n",
       "<span style=\"color: #008000; text-decoration-color: #008000\">астрономии, которые вас особенно интересуют?'</span><span style=\"font-weight: bold\">}]}</span>\n",
       "\n",
       "</pre>\n"
      ],
      "text/plain": [
       "\u001b[1m{\u001b[0m\u001b[32m'assitant_reply'\u001b[0m: \u001b[1m[\u001b[0m\u001b[1m{\u001b[0m\u001b[32m'corrected_english'\u001b[0m: \u001b[32m\"That's wonderful, Joe! Astronomy is a fascinating field that explores \u001b[0m\n",
       "\u001b[32mthe mysteries of the universe. Are there any specific topics in astronomy that you're particularly interested in?\"\u001b[0m,\n",
       "\u001b[32m'corrected_native'\u001b[0m: \u001b[32m'Это замечательно, Джо! Астрономия - это увлекательная область, которая исследует тайны \u001b[0m\n",
       "\u001b[32mвселенной. Есть ли какие-то конкретные темы в астрономии, которые вас особенно интересуют?'\u001b[0m, \u001b[32m'model_english_reply'\u001b[0m:\n",
       "\u001b[32m\"That's wonderful, Joe! Astronomy is a fascinating field that explores the mysteries of the universe. Are there any\u001b[0m\n",
       "\u001b[32mspecific topics in astronomy that you're particularly interested in?\"\u001b[0m, \u001b[32m'model_native_reply'\u001b[0m: \u001b[32m'Это замечательно, \u001b[0m\n",
       "\u001b[32mДжо! Астрономия - это увлекательная область, которая исследует тайны вселенной. Есть ли какие-то конкретные темы в \u001b[0m\n",
       "\u001b[32mастрономии, которые вас особенно интересуют?'\u001b[0m\u001b[1m}\u001b[0m\u001b[1m]\u001b[0m\u001b[1m}\u001b[0m\n",
       "\n"
      ]
     },
     "metadata": {},
     "output_type": "display_data"
    },
    {
     "data": {
      "text/html": [
       "<pre style=\"white-space:pre;overflow-x:auto;line-height:normal;font-family:Menlo,'DejaVu Sans Mono',consolas,'Courier New',monospace\">Input: I am interested in the field of cosmology\n",
       "</pre>\n"
      ],
      "text/plain": [
       "Input: I am interested in the field of cosmology\n"
      ]
     },
     "metadata": {},
     "output_type": "display_data"
    },
    {
     "data": {
      "text/html": [
       "<pre style=\"white-space:pre;overflow-x:auto;line-height:normal;font-family:Menlo,'DejaVu Sans Mono',consolas,'Courier New',monospace\"><span style=\"font-weight: bold\">{</span><span style=\"color: #008000; text-decoration-color: #008000\">'assitant_reply'</span>: <span style=\"font-weight: bold\">[{</span><span style=\"color: #008000; text-decoration-color: #008000\">'corrected_english'</span>: <span style=\"color: #008000; text-decoration-color: #008000\">\"Cosmology is indeed a fascinating field, Joe! It's the study of the </span>\n",
       "<span style=\"color: #008000; text-decoration-color: #008000\">universe's origins and evolution. Are there any specific questions or topics in cosmology that you'd like to </span>\n",
       "<span style=\"color: #008000; text-decoration-color: #008000\">explore?\"</span>, <span style=\"color: #008000; text-decoration-color: #008000\">'corrected_native'</span>: <span style=\"color: #008000; text-decoration-color: #008000\">'Космология действительно увлекательная область, Джо! Это изучение происхождения и </span>\n",
       "<span style=\"color: #008000; text-decoration-color: #008000\">эволюции вселенной. Есть ли какие-то конкретные вопросы или темы в космологии, которые вы хотели бы исследовать?'</span>, \n",
       "<span style=\"color: #008000; text-decoration-color: #008000\">'model_english_reply'</span>: <span style=\"color: #008000; text-decoration-color: #008000\">\"Cosmology is indeed a fascinating field, Joe! It's the study of the universe's origins and </span>\n",
       "<span style=\"color: #008000; text-decoration-color: #008000\">evolution. Are there any specific questions or topics in cosmology that you'd like to explore?\"</span>, \n",
       "<span style=\"color: #008000; text-decoration-color: #008000\">'model_native_reply'</span>: <span style=\"color: #008000; text-decoration-color: #008000\">'Космология действительно увлекательная область, Джо! Это изучение происхождения и эволюции </span>\n",
       "<span style=\"color: #008000; text-decoration-color: #008000\">вселенной. Есть ли какие-то конкретные вопросы или темы в космологии, которые вы хотели бы исследовать?'</span><span style=\"font-weight: bold\">}]}</span>\n",
       "\n",
       "</pre>\n"
      ],
      "text/plain": [
       "\u001b[1m{\u001b[0m\u001b[32m'assitant_reply'\u001b[0m: \u001b[1m[\u001b[0m\u001b[1m{\u001b[0m\u001b[32m'corrected_english'\u001b[0m: \u001b[32m\"Cosmology is indeed a fascinating field, Joe! It's the study of the \u001b[0m\n",
       "\u001b[32muniverse's origins and evolution. Are there any specific questions or topics in cosmology that you'd like to \u001b[0m\n",
       "\u001b[32mexplore?\"\u001b[0m, \u001b[32m'corrected_native'\u001b[0m: \u001b[32m'Космология действительно увлекательная область, Джо! Это изучение происхождения и \u001b[0m\n",
       "\u001b[32mэволюции вселенной. Есть ли какие-то конкретные вопросы или темы в космологии, которые вы хотели бы исследовать?'\u001b[0m, \n",
       "\u001b[32m'model_english_reply'\u001b[0m: \u001b[32m\"Cosmology is indeed a fascinating field, Joe! It's the study of the universe's origins and \u001b[0m\n",
       "\u001b[32mevolution. Are there any specific questions or topics in cosmology that you'd like to explore?\"\u001b[0m, \n",
       "\u001b[32m'model_native_reply'\u001b[0m: \u001b[32m'Космология действительно увлекательная область, Джо! Это изучение происхождения и эволюции \u001b[0m\n",
       "\u001b[32mвселенной. Есть ли какие-то конкретные вопросы или темы в космологии, которые вы хотели бы исследовать?'\u001b[0m\u001b[1m}\u001b[0m\u001b[1m]\u001b[0m\u001b[1m}\u001b[0m\n",
       "\n"
      ]
     },
     "metadata": {},
     "output_type": "display_data"
    },
    {
     "data": {
      "text/html": [
       "<pre style=\"white-space:pre;overflow-x:auto;line-height:normal;font-family:Menlo,'DejaVu Sans Mono',consolas,'Courier New',monospace\">Input: Iam particularly interested in big bang theory\n",
       "</pre>\n"
      ],
      "text/plain": [
       "Input: Iam particularly interested in big bang theory\n"
      ]
     },
     "metadata": {},
     "output_type": "display_data"
    },
    {
     "data": {
      "text/html": [
       "<pre style=\"white-space:pre;overflow-x:auto;line-height:normal;font-family:Menlo,'DejaVu Sans Mono',consolas,'Courier New',monospace\"><span style=\"font-weight: bold\">{</span><span style=\"color: #008000; text-decoration-color: #008000\">'assitant_reply'</span>: <span style=\"font-weight: bold\">[{</span><span style=\"color: #008000; text-decoration-color: #008000\">'corrected_english'</span>: <span style=\"color: #008000; text-decoration-color: #008000\">\"The Big Bang theory is a central concept in cosmology. It's the idea </span>\n",
       "<span style=\"color: #008000; text-decoration-color: #008000\">that the universe began as a hot, dense point nearly 14 billion years ago. This theory is supported by various </span>\n",
       "<span style=\"color: #008000; text-decoration-color: #008000\">observations, including the redshift of distant galaxies and the existence of cosmic microwave background </span>\n",
       "<span style=\"color: #008000; text-decoration-color: #008000\">radiation. Do you have any specific questions about the Big Bang theory?\"</span>, <span style=\"color: #008000; text-decoration-color: #008000\">'corrected_native'</span>: <span style=\"color: #008000; text-decoration-color: #008000\">'Теория Большого </span>\n",
       "<span style=\"color: #008000; text-decoration-color: #008000\">взрыва - это центральная концепция в космологии. Это идея, что вселенная началась как горячая, плотная точка почти </span>\n",
       "<span style=\"color: #008000; text-decoration-color: #008000\">14 миллиардов лет назад. Эту теорию поддерживают различные наблюдения, включая красное смещение далеких галактик и </span>\n",
       "<span style=\"color: #008000; text-decoration-color: #008000\">существование космического микроволнового фонового излучения. У вас есть какие-то конкретные вопросы о теории </span>\n",
       "<span style=\"color: #008000; text-decoration-color: #008000\">Большого взрыва?'</span>, <span style=\"color: #008000; text-decoration-color: #008000\">'model_english_reply'</span>: <span style=\"color: #008000; text-decoration-color: #008000\">\"The Big Bang theory is a central concept in cosmology. It's the idea </span>\n",
       "<span style=\"color: #008000; text-decoration-color: #008000\">that the universe began as a hot, dense point nearly 14 billion years ago. This theory is supported by various </span>\n",
       "<span style=\"color: #008000; text-decoration-color: #008000\">observations, including the redshift of distant galaxies and the existence of cosmic microwave background </span>\n",
       "<span style=\"color: #008000; text-decoration-color: #008000\">radiation. Do you have any specific questions about the Big Bang theory?\"</span>, <span style=\"color: #008000; text-decoration-color: #008000\">'model_native_reply'</span>: <span style=\"color: #008000; text-decoration-color: #008000\">'Теория Большого </span>\n",
       "<span style=\"color: #008000; text-decoration-color: #008000\">взрыва - это центральная концепция в космологии. Это идея, что вселенная началась как горячая, плотная точка почти </span>\n",
       "<span style=\"color: #008000; text-decoration-color: #008000\">14 миллиардов лет назад. Эту теорию поддерживают различные наблюдения, включая красное смещение далеких галактик и </span>\n",
       "<span style=\"color: #008000; text-decoration-color: #008000\">существование космического микроволнового фонового излучения. У вас есть какие-то конкретные вопросы о теории </span>\n",
       "<span style=\"color: #008000; text-decoration-color: #008000\">Большого взрыва?'</span><span style=\"font-weight: bold\">}]}</span>\n",
       "\n",
       "</pre>\n"
      ],
      "text/plain": [
       "\u001b[1m{\u001b[0m\u001b[32m'assitant_reply'\u001b[0m: \u001b[1m[\u001b[0m\u001b[1m{\u001b[0m\u001b[32m'corrected_english'\u001b[0m: \u001b[32m\"The Big Bang theory is a central concept in cosmology. It's the idea \u001b[0m\n",
       "\u001b[32mthat the universe began as a hot, dense point nearly 14 billion years ago. This theory is supported by various \u001b[0m\n",
       "\u001b[32mobservations, including the redshift of distant galaxies and the existence of cosmic microwave background \u001b[0m\n",
       "\u001b[32mradiation. Do you have any specific questions about the Big Bang theory?\"\u001b[0m, \u001b[32m'corrected_native'\u001b[0m: \u001b[32m'Теория Большого \u001b[0m\n",
       "\u001b[32mвзрыва - это центральная концепция в космологии. Это идея, что вселенная началась как горячая, плотная точка почти \u001b[0m\n",
       "\u001b[32m14 миллиардов лет назад. Эту теорию поддерживают различные наблюдения, включая красное смещение далеких галактик и \u001b[0m\n",
       "\u001b[32mсуществование космического микроволнового фонового излучения. У вас есть какие-то конкретные вопросы о теории \u001b[0m\n",
       "\u001b[32mБольшого взрыва?'\u001b[0m, \u001b[32m'model_english_reply'\u001b[0m: \u001b[32m\"The Big Bang theory is a central concept in cosmology. It's the idea \u001b[0m\n",
       "\u001b[32mthat the universe began as a hot, dense point nearly 14 billion years ago. This theory is supported by various \u001b[0m\n",
       "\u001b[32mobservations, including the redshift of distant galaxies and the existence of cosmic microwave background \u001b[0m\n",
       "\u001b[32mradiation. Do you have any specific questions about the Big Bang theory?\"\u001b[0m, \u001b[32m'model_native_reply'\u001b[0m: \u001b[32m'Теория Большого \u001b[0m\n",
       "\u001b[32mвзрыва - это центральная концепция в космологии. Это идея, что вселенная началась как горячая, плотная точка почти \u001b[0m\n",
       "\u001b[32m14 миллиардов лет назад. Эту теорию поддерживают различные наблюдения, включая красное смещение далеких галактик и \u001b[0m\n",
       "\u001b[32mсуществование космического микроволнового фонового излучения. У вас есть какие-то конкретные вопросы о теории \u001b[0m\n",
       "\u001b[32mБольшого взрыва?'\u001b[0m\u001b[1m}\u001b[0m\u001b[1m]\u001b[0m\u001b[1m}\u001b[0m\n",
       "\n"
      ]
     },
     "metadata": {},
     "output_type": "display_data"
    },
    {
     "data": {
      "text/html": [
       "<pre style=\"white-space:pre;overflow-x:auto;line-height:normal;font-family:Menlo,'DejaVu Sans Mono',consolas,'Courier New',monospace\">Input: How those it begins keep it short.\n",
       "</pre>\n"
      ],
      "text/plain": [
       "Input: How those it begins keep it short.\n"
      ]
     },
     "metadata": {},
     "output_type": "display_data"
    },
    {
     "data": {
      "text/html": [
       "<pre style=\"white-space:pre;overflow-x:auto;line-height:normal;font-family:Menlo,'DejaVu Sans Mono',consolas,'Courier New',monospace\"><span style=\"font-weight: bold\">{</span><span style=\"color: #008000; text-decoration-color: #008000\">'assitant_reply'</span>: <span style=\"font-weight: bold\">[{</span><span style=\"color: #008000; text-decoration-color: #008000\">'corrected_english'</span>: <span style=\"color: #008000; text-decoration-color: #008000\">'The Big Bang theory suggests that the universe began as a singularity, a</span>\n",
       "<span style=\"color: #008000; text-decoration-color: #008000\">point of infinite density and temperature, which then expanded and cooled to form the universe we see today.'</span>, \n",
       "<span style=\"color: #008000; text-decoration-color: #008000\">'corrected_native'</span>: <span style=\"color: #008000; text-decoration-color: #008000\">'Теория Большого взрыва предполагает, что вселенная началась как сингулярность, точка </span>\n",
       "<span style=\"color: #008000; text-decoration-color: #008000\">бесконечной плотности и температуры, которая затем расширилась и охладилась, образуя вселенную, которую мы видим </span>\n",
       "<span style=\"color: #008000; text-decoration-color: #008000\">сегодня.'</span>, <span style=\"color: #008000; text-decoration-color: #008000\">'model_english_reply'</span>: <span style=\"color: #008000; text-decoration-color: #008000\">'The Big Bang theory suggests that the universe began as a singularity, a point </span>\n",
       "<span style=\"color: #008000; text-decoration-color: #008000\">of infinite density and temperature, which then expanded and cooled to form the universe we see today.'</span>, \n",
       "<span style=\"color: #008000; text-decoration-color: #008000\">'model_native_reply'</span>: <span style=\"color: #008000; text-decoration-color: #008000\">'Теория Большого взрыва предполагает, что вселенная началась как сингулярность, точка </span>\n",
       "<span style=\"color: #008000; text-decoration-color: #008000\">бесконечной плотности и температуры, которая затем расширилась и охладилась, образуя вселенную, которую мы видим </span>\n",
       "<span style=\"color: #008000; text-decoration-color: #008000\">сегодня.'</span><span style=\"font-weight: bold\">}]}</span>\n",
       "\n",
       "</pre>\n"
      ],
      "text/plain": [
       "\u001b[1m{\u001b[0m\u001b[32m'assitant_reply'\u001b[0m: \u001b[1m[\u001b[0m\u001b[1m{\u001b[0m\u001b[32m'corrected_english'\u001b[0m: \u001b[32m'The Big Bang theory suggests that the universe began as a singularity, a\u001b[0m\n",
       "\u001b[32mpoint of infinite density and temperature, which then expanded and cooled to form the universe we see today.'\u001b[0m, \n",
       "\u001b[32m'corrected_native'\u001b[0m: \u001b[32m'Теория Большого взрыва предполагает, что вселенная началась как сингулярность, точка \u001b[0m\n",
       "\u001b[32mбесконечной плотности и температуры, которая затем расширилась и охладилась, образуя вселенную, которую мы видим \u001b[0m\n",
       "\u001b[32mсегодня.'\u001b[0m, \u001b[32m'model_english_reply'\u001b[0m: \u001b[32m'The Big Bang theory suggests that the universe began as a singularity, a point \u001b[0m\n",
       "\u001b[32mof infinite density and temperature, which then expanded and cooled to form the universe we see today.'\u001b[0m, \n",
       "\u001b[32m'model_native_reply'\u001b[0m: \u001b[32m'Теория Большого взрыва предполагает, что вселенная началась как сингулярность, точка \u001b[0m\n",
       "\u001b[32mбесконечной плотности и температуры, которая затем расширилась и охладилась, образуя вселенную, которую мы видим \u001b[0m\n",
       "\u001b[32mсегодня.'\u001b[0m\u001b[1m}\u001b[0m\u001b[1m]\u001b[0m\u001b[1m}\u001b[0m\n",
       "\n"
      ]
     },
     "metadata": {},
     "output_type": "display_data"
    },
    {
     "data": {
      "text/html": [
       "<pre style=\"white-space:pre;overflow-x:auto;line-height:normal;font-family:Menlo,'DejaVu Sans Mono',consolas,'Courier New',monospace\">Input: What does the roman catholic reaction to big bang theory keep it short\n",
       "</pre>\n"
      ],
      "text/plain": [
       "Input: What does the roman catholic reaction to big bang theory keep it short\n"
      ]
     },
     "metadata": {},
     "output_type": "display_data"
    },
    {
     "data": {
      "text/html": [
       "<pre style=\"white-space:pre;overflow-x:auto;line-height:normal;font-family:Menlo,'DejaVu Sans Mono',consolas,'Courier New',monospace\"><span style=\"font-weight: bold\">{</span><span style=\"color: #008000; text-decoration-color: #008000\">'assitant_reply'</span>: <span style=\"font-weight: bold\">[{</span><span style=\"color: #008000; text-decoration-color: #008000\">'corrected_english'</span>: <span style=\"color: #008000; text-decoration-color: #008000\">'The Roman Catholic Church generally accepts the Big Bang theory, seeing </span>\n",
       "<span style=\"color: #008000; text-decoration-color: #008000\">no conflict between it and the concept of a divine Creator.'</span>, <span style=\"color: #008000; text-decoration-color: #008000\">'corrected_native'</span>: <span style=\"color: #008000; text-decoration-color: #008000\">'Римско-католическая церковь в </span>\n",
       "<span style=\"color: #008000; text-decoration-color: #008000\">целом принимает теорию Большого взрыва, не видя в ней противоречия концепции божественного Создателя.'</span>, \n",
       "<span style=\"color: #008000; text-decoration-color: #008000\">'model_english_reply'</span>: <span style=\"color: #008000; text-decoration-color: #008000\">'The Roman Catholic Church generally accepts the Big Bang theory, seeing no conflict between</span>\n",
       "<span style=\"color: #008000; text-decoration-color: #008000\">it and the concept of a divine Creator.'</span>, <span style=\"color: #008000; text-decoration-color: #008000\">'model_native_reply'</span>: <span style=\"color: #008000; text-decoration-color: #008000\">'Римско-католическая церковь в целом принимает </span>\n",
       "<span style=\"color: #008000; text-decoration-color: #008000\">теорию Большого взрыва, не видя в ней противоречия концепции божественного Создателя.'</span><span style=\"font-weight: bold\">}]}</span>\n",
       "\n",
       "</pre>\n"
      ],
      "text/plain": [
       "\u001b[1m{\u001b[0m\u001b[32m'assitant_reply'\u001b[0m: \u001b[1m[\u001b[0m\u001b[1m{\u001b[0m\u001b[32m'corrected_english'\u001b[0m: \u001b[32m'The Roman Catholic Church generally accepts the Big Bang theory, seeing \u001b[0m\n",
       "\u001b[32mno conflict between it and the concept of a divine Creator.'\u001b[0m, \u001b[32m'corrected_native'\u001b[0m: \u001b[32m'Римско-католическая церковь в \u001b[0m\n",
       "\u001b[32mцелом принимает теорию Большого взрыва, не видя в ней противоречия концепции божественного Создателя.'\u001b[0m, \n",
       "\u001b[32m'model_english_reply'\u001b[0m: \u001b[32m'The Roman Catholic Church generally accepts the Big Bang theory, seeing no conflict between\u001b[0m\n",
       "\u001b[32mit and the concept of a divine Creator.'\u001b[0m, \u001b[32m'model_native_reply'\u001b[0m: \u001b[32m'Римско-католическая церковь в целом принимает \u001b[0m\n",
       "\u001b[32mтеорию Большого взрыва, не видя в ней противоречия концепции божественного Создателя.'\u001b[0m\u001b[1m}\u001b[0m\u001b[1m]\u001b[0m\u001b[1m}\u001b[0m\n",
       "\n"
      ]
     },
     "metadata": {},
     "output_type": "display_data"
    }
   ],
   "source": [
    "for i in range(6):\n",
    "    user_input = input('Prompt:')\n",
    "    print(f'Input: {user_input}')\n",
    "    response=chatbot(user_input)\n",
    "    message_objects.append({\"role\":\"assistant\",\"content\":str(response)})\n",
    "    print(f\"{message_objects[int(len(message_objects)-1)]['content']}\\n\")"
   ]
  },
  {
   "cell_type": "code",
   "execution_count": 15,
   "metadata": {},
   "outputs": [
    {
     "data": {
      "text/html": [
       "<pre style=\"white-space:pre;overflow-x:auto;line-height:normal;font-family:Menlo,'DejaVu Sans Mono',consolas,'Courier New',monospace\">Input: \n",
       "</pre>\n"
      ],
      "text/plain": [
       "Input: \n"
      ]
     },
     "metadata": {},
     "output_type": "display_data"
    }
   ],
   "source": [
    "for i in range(6):\n",
    "    user_input = input('Prompt:')\n",
    "    print(f'Input: {user_input}')\n",
    "    response=chatbot(user_input)\n",
    "    message_objects.append({\"role\":\"assistant\",\"content\":str(response)})\n",
    "    print(f\"{message_objects[int(len(message_objects)-1)]['content']}\\n\")"
   ]
  }
 ],
 "metadata": {
  "kernelspec": {
   "display_name": "prompteng",
   "language": "python",
   "name": "python3"
  },
  "language_info": {
   "codemirror_mode": {
    "name": "ipython",
    "version": 3
   },
   "file_extension": ".py",
   "mimetype": "text/x-python",
   "name": "python",
   "nbconvert_exporter": "python",
   "pygments_lexer": "ipython3",
   "version": "3.10.13"
  },
  "orig_nbformat": 4
 },
 "nbformat": 4,
 "nbformat_minor": 2
}
